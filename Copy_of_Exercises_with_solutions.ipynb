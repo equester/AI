{
  "nbformat": 4,
  "nbformat_minor": 0,
  "metadata": {
    "anaconda-cloud": {},
    "kernelspec": {
      "display_name": "Python [default]",
      "language": "python",
      "name": "python2"
    },
    "language_info": {
      "codemirror_mode": {
        "name": "ipython",
        "version": 2
      },
      "file_extension": ".py",
      "mimetype": "text/x-python",
      "name": "python",
      "nbconvert_exporter": "python",
      "pygments_lexer": "ipython2",
      "version": "2.7.12"
    },
    "colab": {
      "name": "Copy of Exercises_with_solutions.ipynb",
      "provenance": [],
      "include_colab_link": true
    }
  },
  "cells": [
    {
      "cell_type": "markdown",
      "metadata": {
        "id": "view-in-github",
        "colab_type": "text"
      },
      "source": [
        "<a href=\"https://colab.research.google.com/github/equester/AI/blob/master/Copy_of_Exercises_with_solutions.ipynb\" target=\"_parent\"><img src=\"https://colab.research.google.com/assets/colab-badge.svg\" alt=\"Open In Colab\"/></a>"
      ]
    },
    {
      "cell_type": "markdown",
      "metadata": {
        "id": "vj9zp8v2_MKZ",
        "colab_type": "text"
      },
      "source": [
        "# United States - Crime Rates - 1960 - 2014"
      ]
    },
    {
      "cell_type": "markdown",
      "metadata": {
        "id": "hZjFTajM_MKc",
        "colab_type": "text"
      },
      "source": [
        "### Introduction:\n",
        "\n",
        "This time you will create a data \n",
        "\n",
        "Special thanks to: https://github.com/justmarkham for sharing the dataset and materials.\n",
        "\n",
        "### Step 1. Import the necessary libraries"
      ]
    },
    {
      "cell_type": "code",
      "metadata": {
        "id": "zmKK6xzY_MKf",
        "colab_type": "code",
        "colab": {}
      },
      "source": [
        "import numpy as np\n",
        "import pandas as pd"
      ],
      "execution_count": 0,
      "outputs": []
    },
    {
      "cell_type": "markdown",
      "metadata": {
        "id": "wXPUAXW0_MKp",
        "colab_type": "text"
      },
      "source": [
        "### Step 2. Import the dataset from this [address](https://raw.githubusercontent.com/guipsamora/pandas_exercises/master/04_Apply/US_Crime_Rates/US_Crime_Rates_1960_2014.csv). "
      ]
    },
    {
      "cell_type": "markdown",
      "metadata": {
        "id": "38jyTlxK_MKq",
        "colab_type": "text"
      },
      "source": [
        "### Step 3. Assign it to a variable called crime."
      ]
    },
    {
      "cell_type": "code",
      "metadata": {
        "id": "cjUrARQT_MKx",
        "colab_type": "code",
        "outputId": "df73a954-640d-4561-bfc4-c45d28b10ab2",
        "colab": {
          "base_uri": "https://localhost:8080/",
          "height": 204
        }
      },
      "source": [
        "url = \"https://raw.githubusercontent.com/guipsamora/pandas_exercises/master/04_Apply/US_Crime_Rates/US_Crime_Rates_1960_2014.csv\"\n",
        "crime = pd.read_csv(url)\n",
        "crime.head()"
      ],
      "execution_count": 2,
      "outputs": [
        {
          "output_type": "execute_result",
          "data": {
            "text/html": [
              "<div>\n",
              "<style scoped>\n",
              "    .dataframe tbody tr th:only-of-type {\n",
              "        vertical-align: middle;\n",
              "    }\n",
              "\n",
              "    .dataframe tbody tr th {\n",
              "        vertical-align: top;\n",
              "    }\n",
              "\n",
              "    .dataframe thead th {\n",
              "        text-align: right;\n",
              "    }\n",
              "</style>\n",
              "<table border=\"1\" class=\"dataframe\">\n",
              "  <thead>\n",
              "    <tr style=\"text-align: right;\">\n",
              "      <th></th>\n",
              "      <th>Year</th>\n",
              "      <th>Population</th>\n",
              "      <th>Total</th>\n",
              "      <th>Violent</th>\n",
              "      <th>Property</th>\n",
              "      <th>Murder</th>\n",
              "      <th>Forcible_Rape</th>\n",
              "      <th>Robbery</th>\n",
              "      <th>Aggravated_assault</th>\n",
              "      <th>Burglary</th>\n",
              "      <th>Larceny_Theft</th>\n",
              "      <th>Vehicle_Theft</th>\n",
              "    </tr>\n",
              "  </thead>\n",
              "  <tbody>\n",
              "    <tr>\n",
              "      <th>0</th>\n",
              "      <td>1960</td>\n",
              "      <td>179323175</td>\n",
              "      <td>3384200</td>\n",
              "      <td>288460</td>\n",
              "      <td>3095700</td>\n",
              "      <td>9110</td>\n",
              "      <td>17190</td>\n",
              "      <td>107840</td>\n",
              "      <td>154320</td>\n",
              "      <td>912100</td>\n",
              "      <td>1855400</td>\n",
              "      <td>328200</td>\n",
              "    </tr>\n",
              "    <tr>\n",
              "      <th>1</th>\n",
              "      <td>1961</td>\n",
              "      <td>182992000</td>\n",
              "      <td>3488000</td>\n",
              "      <td>289390</td>\n",
              "      <td>3198600</td>\n",
              "      <td>8740</td>\n",
              "      <td>17220</td>\n",
              "      <td>106670</td>\n",
              "      <td>156760</td>\n",
              "      <td>949600</td>\n",
              "      <td>1913000</td>\n",
              "      <td>336000</td>\n",
              "    </tr>\n",
              "    <tr>\n",
              "      <th>2</th>\n",
              "      <td>1962</td>\n",
              "      <td>185771000</td>\n",
              "      <td>3752200</td>\n",
              "      <td>301510</td>\n",
              "      <td>3450700</td>\n",
              "      <td>8530</td>\n",
              "      <td>17550</td>\n",
              "      <td>110860</td>\n",
              "      <td>164570</td>\n",
              "      <td>994300</td>\n",
              "      <td>2089600</td>\n",
              "      <td>366800</td>\n",
              "    </tr>\n",
              "    <tr>\n",
              "      <th>3</th>\n",
              "      <td>1963</td>\n",
              "      <td>188483000</td>\n",
              "      <td>4109500</td>\n",
              "      <td>316970</td>\n",
              "      <td>3792500</td>\n",
              "      <td>8640</td>\n",
              "      <td>17650</td>\n",
              "      <td>116470</td>\n",
              "      <td>174210</td>\n",
              "      <td>1086400</td>\n",
              "      <td>2297800</td>\n",
              "      <td>408300</td>\n",
              "    </tr>\n",
              "    <tr>\n",
              "      <th>4</th>\n",
              "      <td>1964</td>\n",
              "      <td>191141000</td>\n",
              "      <td>4564600</td>\n",
              "      <td>364220</td>\n",
              "      <td>4200400</td>\n",
              "      <td>9360</td>\n",
              "      <td>21420</td>\n",
              "      <td>130390</td>\n",
              "      <td>203050</td>\n",
              "      <td>1213200</td>\n",
              "      <td>2514400</td>\n",
              "      <td>472800</td>\n",
              "    </tr>\n",
              "  </tbody>\n",
              "</table>\n",
              "</div>"
            ],
            "text/plain": [
              "   Year  Population    Total  ...  Burglary  Larceny_Theft  Vehicle_Theft\n",
              "0  1960   179323175  3384200  ...    912100        1855400         328200\n",
              "1  1961   182992000  3488000  ...    949600        1913000         336000\n",
              "2  1962   185771000  3752200  ...    994300        2089600         366800\n",
              "3  1963   188483000  4109500  ...   1086400        2297800         408300\n",
              "4  1964   191141000  4564600  ...   1213200        2514400         472800\n",
              "\n",
              "[5 rows x 12 columns]"
            ]
          },
          "metadata": {
            "tags": []
          },
          "execution_count": 2
        }
      ]
    },
    {
      "cell_type": "markdown",
      "metadata": {
        "id": "mJHMEE7I_MK8",
        "colab_type": "text"
      },
      "source": [
        "### Step 4. What is the type of the columns?"
      ]
    },
    {
      "cell_type": "code",
      "metadata": {
        "id": "tMA-faRW_MK-",
        "colab_type": "code",
        "outputId": "92984584-4b68-40bb-8ce9-39202ac5c452",
        "colab": {
          "base_uri": "https://localhost:8080/",
          "height": 306
        }
      },
      "source": [
        "crime.info()"
      ],
      "execution_count": 3,
      "outputs": [
        {
          "output_type": "stream",
          "text": [
            "<class 'pandas.core.frame.DataFrame'>\n",
            "RangeIndex: 55 entries, 0 to 54\n",
            "Data columns (total 12 columns):\n",
            "Year                  55 non-null int64\n",
            "Population            55 non-null int64\n",
            "Total                 55 non-null int64\n",
            "Violent               55 non-null int64\n",
            "Property              55 non-null int64\n",
            "Murder                55 non-null int64\n",
            "Forcible_Rape         55 non-null int64\n",
            "Robbery               55 non-null int64\n",
            "Aggravated_assault    55 non-null int64\n",
            "Burglary              55 non-null int64\n",
            "Larceny_Theft         55 non-null int64\n",
            "Vehicle_Theft         55 non-null int64\n",
            "dtypes: int64(12)\n",
            "memory usage: 5.2 KB\n"
          ],
          "name": "stdout"
        }
      ]
    },
    {
      "cell_type": "markdown",
      "metadata": {
        "id": "ugVFMPcO_MLM",
        "colab_type": "text"
      },
      "source": [
        "##### Have you noticed that the type of Year is int64. But pandas has a different type to work with Time Series. Let's see it now.\n",
        "\n",
        "### Step 5. Convert the type of the column Year to datetime64"
      ]
    },
    {
      "cell_type": "code",
      "metadata": {
        "id": "ce5sHheF_MLR",
        "colab_type": "code",
        "outputId": "ee8f4789-12e4-4a72-dd2e-54f6d030bb8e",
        "colab": {
          "base_uri": "https://localhost:8080/",
          "height": 306
        }
      },
      "source": [
        "# pd.to_datetime(crime)\n",
        "crime.Year = pd.to_datetime(crime.Year, format='%Y')\n",
        "crime.info()"
      ],
      "execution_count": 4,
      "outputs": [
        {
          "output_type": "stream",
          "text": [
            "<class 'pandas.core.frame.DataFrame'>\n",
            "RangeIndex: 55 entries, 0 to 54\n",
            "Data columns (total 12 columns):\n",
            "Year                  55 non-null datetime64[ns]\n",
            "Population            55 non-null int64\n",
            "Total                 55 non-null int64\n",
            "Violent               55 non-null int64\n",
            "Property              55 non-null int64\n",
            "Murder                55 non-null int64\n",
            "Forcible_Rape         55 non-null int64\n",
            "Robbery               55 non-null int64\n",
            "Aggravated_assault    55 non-null int64\n",
            "Burglary              55 non-null int64\n",
            "Larceny_Theft         55 non-null int64\n",
            "Vehicle_Theft         55 non-null int64\n",
            "dtypes: datetime64[ns](1), int64(11)\n",
            "memory usage: 5.2 KB\n"
          ],
          "name": "stdout"
        }
      ]
    },
    {
      "cell_type": "markdown",
      "metadata": {
        "id": "6-UyXl34_MLZ",
        "colab_type": "text"
      },
      "source": [
        "### Step 6. Set the Year column as the index of the dataframe"
      ]
    },
    {
      "cell_type": "code",
      "metadata": {
        "id": "-3O9uh1w_MLb",
        "colab_type": "code",
        "outputId": "daf71cac-49a6-4082-e56f-ee07bb689324",
        "colab": {}
      },
      "source": [
        "crime = crime.set_index('Year', drop = True)\n",
        "crime.head()"
      ],
      "execution_count": 0,
      "outputs": [
        {
          "output_type": "execute_result",
          "data": {
            "text/html": [
              "<div>\n",
              "<table border=\"1\" class=\"dataframe\">\n",
              "  <thead>\n",
              "    <tr style=\"text-align: right;\">\n",
              "      <th></th>\n",
              "      <th>Population</th>\n",
              "      <th>Total</th>\n",
              "      <th>Violent</th>\n",
              "      <th>Property</th>\n",
              "      <th>Murder</th>\n",
              "      <th>Forcible_Rape</th>\n",
              "      <th>Robbery</th>\n",
              "      <th>Aggravated_assault</th>\n",
              "      <th>Burglary</th>\n",
              "      <th>Larceny_Theft</th>\n",
              "      <th>Vehicle_Theft</th>\n",
              "    </tr>\n",
              "    <tr>\n",
              "      <th>Year</th>\n",
              "      <th></th>\n",
              "      <th></th>\n",
              "      <th></th>\n",
              "      <th></th>\n",
              "      <th></th>\n",
              "      <th></th>\n",
              "      <th></th>\n",
              "      <th></th>\n",
              "      <th></th>\n",
              "      <th></th>\n",
              "      <th></th>\n",
              "    </tr>\n",
              "  </thead>\n",
              "  <tbody>\n",
              "    <tr>\n",
              "      <th>1960-01-01</th>\n",
              "      <td>179323175</td>\n",
              "      <td>3384200</td>\n",
              "      <td>288460</td>\n",
              "      <td>3095700</td>\n",
              "      <td>9110</td>\n",
              "      <td>17190</td>\n",
              "      <td>107840</td>\n",
              "      <td>154320</td>\n",
              "      <td>912100</td>\n",
              "      <td>1855400</td>\n",
              "      <td>328200</td>\n",
              "    </tr>\n",
              "    <tr>\n",
              "      <th>1961-01-01</th>\n",
              "      <td>182992000</td>\n",
              "      <td>3488000</td>\n",
              "      <td>289390</td>\n",
              "      <td>3198600</td>\n",
              "      <td>8740</td>\n",
              "      <td>17220</td>\n",
              "      <td>106670</td>\n",
              "      <td>156760</td>\n",
              "      <td>949600</td>\n",
              "      <td>1913000</td>\n",
              "      <td>336000</td>\n",
              "    </tr>\n",
              "    <tr>\n",
              "      <th>1962-01-01</th>\n",
              "      <td>185771000</td>\n",
              "      <td>3752200</td>\n",
              "      <td>301510</td>\n",
              "      <td>3450700</td>\n",
              "      <td>8530</td>\n",
              "      <td>17550</td>\n",
              "      <td>110860</td>\n",
              "      <td>164570</td>\n",
              "      <td>994300</td>\n",
              "      <td>2089600</td>\n",
              "      <td>366800</td>\n",
              "    </tr>\n",
              "    <tr>\n",
              "      <th>1963-01-01</th>\n",
              "      <td>188483000</td>\n",
              "      <td>4109500</td>\n",
              "      <td>316970</td>\n",
              "      <td>3792500</td>\n",
              "      <td>8640</td>\n",
              "      <td>17650</td>\n",
              "      <td>116470</td>\n",
              "      <td>174210</td>\n",
              "      <td>1086400</td>\n",
              "      <td>2297800</td>\n",
              "      <td>408300</td>\n",
              "    </tr>\n",
              "    <tr>\n",
              "      <th>1964-01-01</th>\n",
              "      <td>191141000</td>\n",
              "      <td>4564600</td>\n",
              "      <td>364220</td>\n",
              "      <td>4200400</td>\n",
              "      <td>9360</td>\n",
              "      <td>21420</td>\n",
              "      <td>130390</td>\n",
              "      <td>203050</td>\n",
              "      <td>1213200</td>\n",
              "      <td>2514400</td>\n",
              "      <td>472800</td>\n",
              "    </tr>\n",
              "  </tbody>\n",
              "</table>\n",
              "</div>"
            ],
            "text/plain": [
              "            Population    Total  Violent  Property  Murder  Forcible_Rape  \\\n",
              "Year                                                                        \n",
              "1960-01-01   179323175  3384200   288460   3095700    9110          17190   \n",
              "1961-01-01   182992000  3488000   289390   3198600    8740          17220   \n",
              "1962-01-01   185771000  3752200   301510   3450700    8530          17550   \n",
              "1963-01-01   188483000  4109500   316970   3792500    8640          17650   \n",
              "1964-01-01   191141000  4564600   364220   4200400    9360          21420   \n",
              "\n",
              "            Robbery  Aggravated_assault  Burglary  Larceny_Theft  \\\n",
              "Year                                                               \n",
              "1960-01-01   107840              154320    912100        1855400   \n",
              "1961-01-01   106670              156760    949600        1913000   \n",
              "1962-01-01   110860              164570    994300        2089600   \n",
              "1963-01-01   116470              174210   1086400        2297800   \n",
              "1964-01-01   130390              203050   1213200        2514400   \n",
              "\n",
              "            Vehicle_Theft  \n",
              "Year                       \n",
              "1960-01-01         328200  \n",
              "1961-01-01         336000  \n",
              "1962-01-01         366800  \n",
              "1963-01-01         408300  \n",
              "1964-01-01         472800  "
            ]
          },
          "metadata": {
            "tags": []
          },
          "execution_count": 268
        }
      ]
    },
    {
      "cell_type": "markdown",
      "metadata": {
        "id": "35o24YZk_MLk",
        "colab_type": "text"
      },
      "source": [
        "### Step 7. Delete the Total column"
      ]
    },
    {
      "cell_type": "code",
      "metadata": {
        "id": "FEUNnt3J_MLl",
        "colab_type": "code",
        "outputId": "90f2ede3-a74a-4f2a-f76d-877a81ced4b8",
        "colab": {}
      },
      "source": [
        "del crime['Total']\n",
        "crime.head()"
      ],
      "execution_count": 0,
      "outputs": [
        {
          "output_type": "execute_result",
          "data": {
            "text/html": [
              "<div>\n",
              "<table border=\"1\" class=\"dataframe\">\n",
              "  <thead>\n",
              "    <tr style=\"text-align: right;\">\n",
              "      <th></th>\n",
              "      <th>Population</th>\n",
              "      <th>Violent</th>\n",
              "      <th>Property</th>\n",
              "      <th>Murder</th>\n",
              "      <th>Forcible_Rape</th>\n",
              "      <th>Robbery</th>\n",
              "      <th>Aggravated_assault</th>\n",
              "      <th>Burglary</th>\n",
              "      <th>Larceny_Theft</th>\n",
              "      <th>Vehicle_Theft</th>\n",
              "    </tr>\n",
              "    <tr>\n",
              "      <th>Year</th>\n",
              "      <th></th>\n",
              "      <th></th>\n",
              "      <th></th>\n",
              "      <th></th>\n",
              "      <th></th>\n",
              "      <th></th>\n",
              "      <th></th>\n",
              "      <th></th>\n",
              "      <th></th>\n",
              "      <th></th>\n",
              "    </tr>\n",
              "  </thead>\n",
              "  <tbody>\n",
              "    <tr>\n",
              "      <th>1960-01-01</th>\n",
              "      <td>179323175</td>\n",
              "      <td>288460</td>\n",
              "      <td>3095700</td>\n",
              "      <td>9110</td>\n",
              "      <td>17190</td>\n",
              "      <td>107840</td>\n",
              "      <td>154320</td>\n",
              "      <td>912100</td>\n",
              "      <td>1855400</td>\n",
              "      <td>328200</td>\n",
              "    </tr>\n",
              "    <tr>\n",
              "      <th>1961-01-01</th>\n",
              "      <td>182992000</td>\n",
              "      <td>289390</td>\n",
              "      <td>3198600</td>\n",
              "      <td>8740</td>\n",
              "      <td>17220</td>\n",
              "      <td>106670</td>\n",
              "      <td>156760</td>\n",
              "      <td>949600</td>\n",
              "      <td>1913000</td>\n",
              "      <td>336000</td>\n",
              "    </tr>\n",
              "    <tr>\n",
              "      <th>1962-01-01</th>\n",
              "      <td>185771000</td>\n",
              "      <td>301510</td>\n",
              "      <td>3450700</td>\n",
              "      <td>8530</td>\n",
              "      <td>17550</td>\n",
              "      <td>110860</td>\n",
              "      <td>164570</td>\n",
              "      <td>994300</td>\n",
              "      <td>2089600</td>\n",
              "      <td>366800</td>\n",
              "    </tr>\n",
              "    <tr>\n",
              "      <th>1963-01-01</th>\n",
              "      <td>188483000</td>\n",
              "      <td>316970</td>\n",
              "      <td>3792500</td>\n",
              "      <td>8640</td>\n",
              "      <td>17650</td>\n",
              "      <td>116470</td>\n",
              "      <td>174210</td>\n",
              "      <td>1086400</td>\n",
              "      <td>2297800</td>\n",
              "      <td>408300</td>\n",
              "    </tr>\n",
              "    <tr>\n",
              "      <th>1964-01-01</th>\n",
              "      <td>191141000</td>\n",
              "      <td>364220</td>\n",
              "      <td>4200400</td>\n",
              "      <td>9360</td>\n",
              "      <td>21420</td>\n",
              "      <td>130390</td>\n",
              "      <td>203050</td>\n",
              "      <td>1213200</td>\n",
              "      <td>2514400</td>\n",
              "      <td>472800</td>\n",
              "    </tr>\n",
              "  </tbody>\n",
              "</table>\n",
              "</div>"
            ],
            "text/plain": [
              "            Population  Violent  Property  Murder  Forcible_Rape  Robbery  \\\n",
              "Year                                                                        \n",
              "1960-01-01   179323175   288460   3095700    9110          17190   107840   \n",
              "1961-01-01   182992000   289390   3198600    8740          17220   106670   \n",
              "1962-01-01   185771000   301510   3450700    8530          17550   110860   \n",
              "1963-01-01   188483000   316970   3792500    8640          17650   116470   \n",
              "1964-01-01   191141000   364220   4200400    9360          21420   130390   \n",
              "\n",
              "            Aggravated_assault  Burglary  Larceny_Theft  Vehicle_Theft  \n",
              "Year                                                                    \n",
              "1960-01-01              154320    912100        1855400         328200  \n",
              "1961-01-01              156760    949600        1913000         336000  \n",
              "1962-01-01              164570    994300        2089600         366800  \n",
              "1963-01-01              174210   1086400        2297800         408300  \n",
              "1964-01-01              203050   1213200        2514400         472800  "
            ]
          },
          "metadata": {
            "tags": []
          },
          "execution_count": 269
        }
      ]
    },
    {
      "cell_type": "markdown",
      "metadata": {
        "id": "y80zSF9L_MLp",
        "colab_type": "text"
      },
      "source": [
        "### Step 8. Group the year by decades and sum the values\n",
        "\n",
        "#### Pay attention to the Population column number, summing this column is a mistake"
      ]
    },
    {
      "cell_type": "code",
      "metadata": {
        "scrolled": true,
        "id": "4m6fewZW_MLq",
        "colab_type": "code",
        "outputId": "f65499f3-595f-4782-cd3e-2ffdafbc30b0",
        "colab": {}
      },
      "source": [
        "# To learn more about .resample (https://pandas.pydata.org/pandas-docs/stable/generated/pandas.DataFrame.resample.html)\n",
        "# To learn more about Offset Aliases (http://pandas.pydata.org/pandas-docs/stable/timeseries.html#offset-aliases)\n",
        "\n",
        "# Uses resample to sum each decade\n",
        "crimes = crime.resample('10AS').sum()\n",
        "\n",
        "# Uses resample to get the max value only for the \"Population\" column\n",
        "population = crime['Population'].resample('10AS').max()\n",
        "\n",
        "# Updating the \"Population\" column\n",
        "crimes['Population'] = population\n",
        "\n",
        "crimes"
      ],
      "execution_count": 0,
      "outputs": [
        {
          "output_type": "execute_result",
          "data": {
            "text/html": [
              "<div>\n",
              "<table border=\"1\" class=\"dataframe\">\n",
              "  <thead>\n",
              "    <tr style=\"text-align: right;\">\n",
              "      <th></th>\n",
              "      <th>Population</th>\n",
              "      <th>Violent</th>\n",
              "      <th>Property</th>\n",
              "      <th>Murder</th>\n",
              "      <th>Forcible_Rape</th>\n",
              "      <th>Robbery</th>\n",
              "      <th>Aggravated_assault</th>\n",
              "      <th>Burglary</th>\n",
              "      <th>Larceny_Theft</th>\n",
              "      <th>Vehicle_Theft</th>\n",
              "    </tr>\n",
              "  </thead>\n",
              "  <tbody>\n",
              "    <tr>\n",
              "      <th>1960</th>\n",
              "      <td>201385000</td>\n",
              "      <td>4134930</td>\n",
              "      <td>45160900</td>\n",
              "      <td>106180</td>\n",
              "      <td>236720</td>\n",
              "      <td>1633510</td>\n",
              "      <td>2158520</td>\n",
              "      <td>13321100</td>\n",
              "      <td>26547700</td>\n",
              "      <td>5292100</td>\n",
              "    </tr>\n",
              "    <tr>\n",
              "      <th>1970</th>\n",
              "      <td>220099000</td>\n",
              "      <td>9607930</td>\n",
              "      <td>91383800</td>\n",
              "      <td>192230</td>\n",
              "      <td>554570</td>\n",
              "      <td>4159020</td>\n",
              "      <td>4702120</td>\n",
              "      <td>28486000</td>\n",
              "      <td>53157800</td>\n",
              "      <td>9739900</td>\n",
              "    </tr>\n",
              "    <tr>\n",
              "      <th>1980</th>\n",
              "      <td>248239000</td>\n",
              "      <td>14074328</td>\n",
              "      <td>117048900</td>\n",
              "      <td>206439</td>\n",
              "      <td>865639</td>\n",
              "      <td>5383109</td>\n",
              "      <td>7619130</td>\n",
              "      <td>33073494</td>\n",
              "      <td>72040253</td>\n",
              "      <td>11935411</td>\n",
              "    </tr>\n",
              "    <tr>\n",
              "      <th>1990</th>\n",
              "      <td>272690813</td>\n",
              "      <td>17527048</td>\n",
              "      <td>119053499</td>\n",
              "      <td>211664</td>\n",
              "      <td>998827</td>\n",
              "      <td>5748930</td>\n",
              "      <td>10568963</td>\n",
              "      <td>26750015</td>\n",
              "      <td>77679366</td>\n",
              "      <td>14624418</td>\n",
              "    </tr>\n",
              "    <tr>\n",
              "      <th>2000</th>\n",
              "      <td>307006550</td>\n",
              "      <td>13968056</td>\n",
              "      <td>100944369</td>\n",
              "      <td>163068</td>\n",
              "      <td>922499</td>\n",
              "      <td>4230366</td>\n",
              "      <td>8652124</td>\n",
              "      <td>21565176</td>\n",
              "      <td>67970291</td>\n",
              "      <td>11412834</td>\n",
              "    </tr>\n",
              "    <tr>\n",
              "      <th>2010</th>\n",
              "      <td>318857056</td>\n",
              "      <td>6072017</td>\n",
              "      <td>44095950</td>\n",
              "      <td>72867</td>\n",
              "      <td>421059</td>\n",
              "      <td>1749809</td>\n",
              "      <td>3764142</td>\n",
              "      <td>10125170</td>\n",
              "      <td>30401698</td>\n",
              "      <td>3569080</td>\n",
              "    </tr>\n",
              "  </tbody>\n",
              "</table>\n",
              "</div>"
            ],
            "text/plain": [
              "      Population   Violent   Property  Murder  Forcible_Rape  Robbery  \\\n",
              "1960   201385000   4134930   45160900  106180         236720  1633510   \n",
              "1970   220099000   9607930   91383800  192230         554570  4159020   \n",
              "1980   248239000  14074328  117048900  206439         865639  5383109   \n",
              "1990   272690813  17527048  119053499  211664         998827  5748930   \n",
              "2000   307006550  13968056  100944369  163068         922499  4230366   \n",
              "2010   318857056   6072017   44095950   72867         421059  1749809   \n",
              "\n",
              "      Aggravated_assault  Burglary  Larceny_Theft  Vehicle_Theft  \n",
              "1960             2158520  13321100       26547700        5292100  \n",
              "1970             4702120  28486000       53157800        9739900  \n",
              "1980             7619130  33073494       72040253       11935411  \n",
              "1990            10568963  26750015       77679366       14624418  \n",
              "2000             8652124  21565176       67970291       11412834  \n",
              "2010             3764142  10125170       30401698        3569080  "
            ]
          },
          "metadata": {
            "tags": []
          },
          "execution_count": 270
        }
      ]
    },
    {
      "cell_type": "markdown",
      "metadata": {
        "id": "BZY-8Q9i_MLx",
        "colab_type": "text"
      },
      "source": [
        "### Step 9. What is the mos dangerous decade to live in the US?"
      ]
    },
    {
      "cell_type": "code",
      "metadata": {
        "id": "sPo22-0Q_MLy",
        "colab_type": "code",
        "outputId": "421201dd-c0a4-4181-ac19-eefcc8cdd23c",
        "colab": {}
      },
      "source": [
        "# apparently the 90s was a pretty dangerous time in the US\n",
        "crime.idxmax(0)"
      ],
      "execution_count": 0,
      "outputs": [
        {
          "output_type": "execute_result",
          "data": {
            "text/plain": [
              "Population            2010\n",
              "Violent               1990\n",
              "Property              1990\n",
              "Murder                1990\n",
              "Forcible_Rape         1990\n",
              "Robbery               1990\n",
              "Aggravated_assault    1990\n",
              "Burglary              1980\n",
              "Larceny_Theft         1990\n",
              "Vehicle_Theft         1990\n",
              "dtype: int64"
            ]
          },
          "metadata": {
            "tags": []
          },
          "execution_count": 276
        }
      ]
    }
  ]
}