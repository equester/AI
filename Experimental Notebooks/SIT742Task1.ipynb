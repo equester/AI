{
    "nbformat_minor": 1, 
    "cells": [
        {
            "source": "# SIT742: Modern Data Science \n**(Assessment Task 01: Wine Rating Data Exploration)**\n\n---\n- Materials in this module include resources collected from various open-source online repositories.\n- You are free to use, change and distribute this package.\n\nPrepared by **SIT742 Teaching Team**\n\n\n---\n\n**Student Information:** Please fill your information below\n\n- Name:\n- Student ID:\n- Email:\n\n---", 
            "cell_type": "markdown", 
            "metadata": {}
        }, 
        {
            "source": "# Part 0. Data Files\n\n## 0.1 Download Data  ", 
            "cell_type": "markdown", 
            "metadata": {}
        }, 
        {
            "source": "!pip install wget  ", 
            "cell_type": "code", 
            "metadata": {}, 
            "outputs": [], 
            "execution_count": null
        }, 
        {
            "source": "import wget\n\nlink_to_data = 'https://github.com/tulip-lab/sit742/raw/master/Assessment/2019/data/wine.json'\nDataSet = wget.download(link_to_data)\n\nlink_to_data = 'https://github.com/tulip-lab/sit742/raw/master/Assessment/2019/data/stopwords.txt'\n\nDataSet = wget.download(link_to_data)", 
            "cell_type": "code", 
            "metadata": {}, 
            "outputs": [], 
            "execution_count": null
        }, 
        {
            "source": "!ls", 
            "cell_type": "code", 
            "metadata": {}, 
            "outputs": [], 
            "execution_count": null
        }, 
        {
            "source": "## 0.2 Load Data  ", 
            "cell_type": "markdown", 
            "metadata": {
                "colab_type": "text", 
                "id": "oNT3z7_d0E2A"
            }
        }, 
        {
            "source": "import json\nimport pandas as pd\nimport matplotlib.pyplot as plt", 
            "cell_type": "code", 
            "metadata": {
                "colab_type": "code", 
                "id": "iuZOT5Uc0E2B", 
                "colab": {}
            }, 
            "outputs": [], 
            "execution_count": null
        }, 
        {
            "source": "file = 'wine.json'", 
            "cell_type": "code", 
            "metadata": {
                "colab_type": "code", 
                "id": "rykuKlUD0E2E", 
                "colab": {}
            }, 
            "outputs": [], 
            "execution_count": null
        }, 
        {
            "source": "# write your code here\n# read the json file and drop rows with invalid values in the attributes of 'points' and 'price'.", 
            "cell_type": "code", 
            "metadata": {
                "colab_type": "code", 
                "id": "yhSNRInw0E2F", 
                "colab": {}
            }, 
            "outputs": [], 
            "execution_count": null
        }, 
        {
            "source": "# Part 1: numeric anaysis", 
            "cell_type": "markdown", 
            "metadata": {
                "colab_type": "text", 
                "id": "p-Mn2BCV0E2J"
            }
        }, 
        {
            "source": "## 1.1 Explore the data distribution for each column.", 
            "cell_type": "markdown", 
            "metadata": {
                "colab_type": "text", 
                "id": "NnyyHM280E2J"
            }
        }, 
        {
            "source": "# write your code here\n# you may use functions such as describe() on each attribute", 
            "cell_type": "code", 
            "metadata": {
                "colab_type": "code", 
                "id": "XLgAFg_K0E2K", 
                "colab": {}
            }, 
            "outputs": [], 
            "execution_count": null
        }, 
        {
            "source": "## 1.2 Find the 10 varieties of wine which receives the highest number of  reviews", 
            "cell_type": "markdown", 
            "metadata": {
                "colab_type": "text", 
                "id": "8traKPor0E2a"
            }
        }, 
        {
            "source": "# write your code here\n# you may use functions such as value_counts()  ", 
            "cell_type": "code", 
            "metadata": {
                "scrolled": true, 
                "colab_type": "code", 
                "id": "uTjM_Jmt0E2a", 
                "colab": {}
            }, 
            "outputs": [], 
            "execution_count": null
        }, 
        {
            "source": "## 1.3 Find varieties of wine having the average price less than 20, with the average pointsat least 90", 
            "cell_type": "markdown", 
            "metadata": {
                "colab_type": "text", 
                "id": "RtpXXUrv0E2c"
            }
        }, 
        {
            "source": "# write your code here\n# you may use functions such as groupby() ", 
            "cell_type": "code", 
            "metadata": {
                "colab_type": "code", 
                "id": "KgdpRAfs0E2d", 
                "colab": {}
            }, 
            "outputs": [], 
            "execution_count": null
        }, 
        {
            "source": "## 1.4 Build statistic table ", 
            "cell_type": "markdown", 
            "metadata": {
                "colab_type": "text", 
                "id": "Yi93saTG0E2i"
            }
        }, 
        {
            "source": "# write your code here\n# you may use functions such as groupby() and round(decimals=2)\n", 
            "cell_type": "code", 
            "metadata": {
                "scrolled": true, 
                "colab_type": "code", 
                "id": "IPKIEonM0E2j", 
                "colab": {}
            }, 
            "outputs": [], 
            "execution_count": null
        }, 
        {
            "source": "# save your table to 'statisticByState.csv'", 
            "cell_type": "code", 
            "metadata": {
                "colab_type": "code", 
                "id": "JuMzX7100E2l", 
                "colab": {}
            }, 
            "outputs": [], 
            "execution_count": null
        }, 
        {
            "source": "## 1.5 Recommendations\n\n\nBased on the analysis, which country/countries would you recommend *HOTEL TULIP* to source wine from? Pleas state your reasons.\n\n---\n\nYour Answer:\n\n- TO BE ADDED\n- ...\n\n---\n", 
            "cell_type": "markdown", 
            "metadata": {}
        }, 
        {
            "source": "# Part 2. Text Analysis\n\n## 2.1 extract high requency words in description", 
            "cell_type": "markdown", 
            "metadata": {
                "colab_type": "text", 
                "id": "2pM--l1C0E2n"
            }
        }, 
        {
            "source": "import re\nimport nltk\nfrom nltk.tokenize import RegexpTokenizer\nfrom nltk.probability import *\nfrom itertools import chain\n#from tqdm import tqdm\nimport codecs", 
            "cell_type": "code", 
            "metadata": {
                "colab_type": "code", 
                "id": "Yj_6QJv00E2o", 
                "colab": {}
            }, 
            "outputs": [], 
            "execution_count": null
        }, 
        {
            "source": "with open('stopwords.txt') as f:\n    stop_words = f.read().splitlines()\nstop_words = set(stop_words)", 
            "cell_type": "code", 
            "metadata": {
                "colab_type": "code", 
                "id": "dhEPsrZi0E2p", 
                "colab": {}
            }, 
            "outputs": [], 
            "execution_count": null
        }, 
        {
            "source": "# write your code here\n# define your tokenize\n\ntokenizer = RegexpTokenizer(r\"\\w+(?:[-']\\w+)?\") ", 
            "cell_type": "code", 
            "metadata": {
                "colab_type": "code", 
                "id": "G4npAbiy0E2r", 
                "colab": {}
            }, 
            "outputs": [], 
            "execution_count": null
        }, 
        {
            "source": "# find top common words with document frequencies > 5000\n# you may use function FreqDist() and sort()", 
            "cell_type": "code", 
            "metadata": {
                "colab_type": "code", 
                "id": "p3Wv41wU0E2v", 
                "colab": {}
            }, 
            "outputs": [], 
            "execution_count": null
        }, 
        {
            "source": "# save your table to 'top_common_words.txt'  ", 
            "cell_type": "code", 
            "metadata": {
                "colab_type": "code", 
                "id": "S_0fhtMy0E21", 
                "colab": {}
            }, 
            "outputs": [], 
            "execution_count": null
        }, 
        {
            "source": "## 2.2 Find key words for describing Shiraz using TF-IDF", 
            "cell_type": "markdown", 
            "metadata": {
                "colab_type": "text", 
                "id": "rItgiUiW0E22"
            }
        }, 
        {
            "source": "# select 'description' from 'variety' eqaul to  'Shiraz' ", 
            "cell_type": "code", 
            "metadata": {
                "colab_type": "code", 
                "id": "k19yjNax0E23", 
                "colab": {}
            }, 
            "outputs": [], 
            "execution_count": null
        }, 
        {
            "source": "# use TfidfVectorizer to calculate TF-IDF score\nfrom sklearn.feature_extraction.text import TfidfVectorizer\ntfidf = TfidfVectorizer(analyzer='word', stop_words = 'english')\n ", 
            "cell_type": "code", 
            "metadata": {
                "colab_type": "code", 
                "id": "rJjSoPYt0E25", 
                "colab": {}
            }, 
            "outputs": [], 
            "execution_count": null
        }, 
        {
            "source": "# find words with TF-IDF score >0.4 and sort them", 
            "cell_type": "code", 
            "metadata": {
                "scrolled": true, 
                "colab_type": "code", 
                "id": "f-81TMHm0E29", 
                "colab": {}
            }, 
            "outputs": [], 
            "execution_count": null
        }, 
        {
            "source": "# save your table to 'key_Shiraz.txt'   ", 
            "cell_type": "code", 
            "metadata": {
                "colab_type": "code", 
                "id": "BkZRD-8j0E3B", 
                "colab": {}
            }, 
            "outputs": [], 
            "execution_count": null
        }
    ], 
    "metadata": {
        "kernelspec": {
            "display_name": "Python 3.5", 
            "name": "python3", 
            "language": "python"
        }, 
        "language_info": {
            "mimetype": "text/x-python", 
            "nbconvert_exporter": "python", 
            "version": "3.5.5", 
            "name": "python", 
            "file_extension": ".py", 
            "pygments_lexer": "ipython3", 
            "codemirror_mode": {
                "version": 3, 
                "name": "ipython"
            }
        }, 
        "colab": {
            "provenance": [], 
            "version": "0.3.2", 
            "toc_visible": true, 
            "name": "SIT742Assignment1.ipynb"
        }
    }, 
    "nbformat": 4
}