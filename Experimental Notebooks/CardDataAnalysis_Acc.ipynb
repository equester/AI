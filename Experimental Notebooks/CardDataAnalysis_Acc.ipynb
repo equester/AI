{
 "cells": [
  {
   "cell_type": "code",
   "execution_count": 1,
   "metadata": {},
   "outputs": [],
   "source": [
    "#Lets import basic standard libraries first \n",
    "#!pip install plotly\n",
    "import pandas as pd #Pandas library\n",
    "import numpy as np  #Numpy library\n",
    "import seaborn as sns #Seaborn libaray for visualisation\n",
    "import pickle\n",
    "import matplotlib.pyplot as plt #Matpltolib Pyplot libaray for visualisation\n",
    "plt.figure(figsize=(16,6))\n",
    "%matplotlib inline\n",
    "\n",
    "\n",
    "from sklearn.model_selection import train_test_split , GridSearchCV\n",
    "from sklearn.tree import DecisionTreeClassifier\n",
    "from sklearn.ensemble import RandomForestClassifier\n",
    "from sklearn import metrics\n",
    "from sklearn.metrics import confusion_matrix,accuracy_score\n",
    "\n",
    "\n",
    "\n",
    "import warnings # Warnings library to ignore warnings\n",
    "warnings.filterwarnings(\"ignore\", category=DeprecationWarning)"
   ]
  },
  {
   "cell_type": "code",
   "execution_count": 2,
   "metadata": {},
   "outputs": [],
   "source": [
    "mapping_Reason_Code= pd.read_excel('./Data Elements_Value Mapping.xlsx',sheet_name=\"Reason code & Condition Code\")\n",
    "mapping_Others_Code= pd.read_excel('./Data Elements_Value Mapping.xlsx',sheet_name=\"Others\")\n",
    "mapping_ISO_Country_Code= pd.read_excel('./Data Elements_Value Mapping.xlsx',sheet_name=\"ISO_Country & Currency Codes\")\n",
    "\n",
    "visaData=pd.read_excel(\"./Chargeback Updated Final Data Set_V8.xlsm\",sheet_name=\"VISA\")"
   ]
  },
  {
   "cell_type": "code",
   "execution_count": 3,
   "metadata": {},
   "outputs": [
    {
     "data": {
      "text/plain": [
       "(2291, 73)"
      ]
     },
     "execution_count": 3,
     "metadata": {},
     "output_type": "execute_result"
    }
   ],
   "source": [
    "visaData.shape"
   ]
  },
  {
   "cell_type": "code",
   "execution_count": 4,
   "metadata": {},
   "outputs": [
    {
     "data": {
      "text/html": [
       "<div>\n",
       "<style scoped>\n",
       "    .dataframe tbody tr th:only-of-type {\n",
       "        vertical-align: middle;\n",
       "    }\n",
       "\n",
       "    .dataframe tbody tr th {\n",
       "        vertical-align: top;\n",
       "    }\n",
       "\n",
       "    .dataframe thead th {\n",
       "        text-align: right;\n",
       "    }\n",
       "</style>\n",
       "<table border=\"1\" class=\"dataframe\">\n",
       "  <thead>\n",
       "    <tr style=\"text-align: right;\">\n",
       "      <th></th>\n",
       "      <th>Chargeback Request Id</th>\n",
       "      <th>Card Number</th>\n",
       "      <th>Posted Amount (USD)</th>\n",
       "      <th>Authorization Amount (USD)</th>\n",
       "      <th>Txn Date</th>\n",
       "      <th>Central Processing Date</th>\n",
       "      <th>Authorization Date</th>\n",
       "      <th>Txn_Type</th>\n",
       "      <th>Unique Identifier</th>\n",
       "      <th>Issuer Country</th>\n",
       "      <th>...</th>\n",
       "      <th>Txn Merchant Country in Europe Flg?</th>\n",
       "      <th>Txn Merchant Country in AP Flg?</th>\n",
       "      <th>Txn Merchant Country in CANADA Flg?</th>\n",
       "      <th>Txn Merchant Country in CMEA Flg?</th>\n",
       "      <th>Txn Authorized through Emergency services</th>\n",
       "      <th>Txn POS Env value = R?</th>\n",
       "      <th>Auth Code Blank on Txn</th>\n",
       "      <th>CRC</th>\n",
       "      <th>Reason_Code</th>\n",
       "      <th>Doc_Ind</th>\n",
       "    </tr>\n",
       "  </thead>\n",
       "  <tbody>\n",
       "    <tr>\n",
       "      <th>0</th>\n",
       "      <td>101</td>\n",
       "      <td>4AAABBBBCCCC0101</td>\n",
       "      <td>44.32</td>\n",
       "      <td>44.32</td>\n",
       "      <td>2017-01-04 00:00:00</td>\n",
       "      <td>2017-01-04 00:00:00</td>\n",
       "      <td>2017-01-04 00:00:00</td>\n",
       "      <td>Purchase</td>\n",
       "      <td>VPUR101</td>\n",
       "      <td>US</td>\n",
       "      <td>...</td>\n",
       "      <td>N</td>\n",
       "      <td>Y</td>\n",
       "      <td>N</td>\n",
       "      <td>N</td>\n",
       "      <td>N</td>\n",
       "      <td>N</td>\n",
       "      <td>Y</td>\n",
       "      <td>Space</td>\n",
       "      <td>RC 83 C1</td>\n",
       "      <td>Y</td>\n",
       "    </tr>\n",
       "    <tr>\n",
       "      <th>1</th>\n",
       "      <td>102</td>\n",
       "      <td>4AAABBBBCCCC0102</td>\n",
       "      <td>57.85</td>\n",
       "      <td>57.85</td>\n",
       "      <td>2017-02-04 00:00:00</td>\n",
       "      <td>2017-02-04 00:00:00</td>\n",
       "      <td>2017-02-04 00:00:00</td>\n",
       "      <td>Purchase</td>\n",
       "      <td>VPUR102</td>\n",
       "      <td>US</td>\n",
       "      <td>...</td>\n",
       "      <td>Y</td>\n",
       "      <td>N</td>\n",
       "      <td>N</td>\n",
       "      <td>N</td>\n",
       "      <td>N</td>\n",
       "      <td>N</td>\n",
       "      <td>Y</td>\n",
       "      <td>Space</td>\n",
       "      <td>RC 83 C1</td>\n",
       "      <td>Y</td>\n",
       "    </tr>\n",
       "  </tbody>\n",
       "</table>\n",
       "<p>2 rows × 73 columns</p>\n",
       "</div>"
      ],
      "text/plain": [
       "   Chargeback Request Id       Card Number  Posted Amount (USD)  \\\n",
       "0                    101  4AAABBBBCCCC0101                44.32   \n",
       "1                    102  4AAABBBBCCCC0102                57.85   \n",
       "\n",
       "   Authorization Amount (USD)             Txn Date Central Processing Date  \\\n",
       "0                       44.32  2017-01-04 00:00:00     2017-01-04 00:00:00   \n",
       "1                       57.85  2017-02-04 00:00:00     2017-02-04 00:00:00   \n",
       "\n",
       "    Authorization Date  Txn_Type Unique Identifier Issuer Country  ...  \\\n",
       "0  2017-01-04 00:00:00  Purchase           VPUR101             US  ...   \n",
       "1  2017-02-04 00:00:00  Purchase           VPUR102             US  ...   \n",
       "\n",
       "  Txn Merchant Country in Europe Flg? Txn Merchant Country in AP Flg?  \\\n",
       "0                                   N                               Y   \n",
       "1                                   Y                               N   \n",
       "\n",
       "   Txn Merchant Country in CANADA Flg?  Txn Merchant Country in CMEA Flg?  \\\n",
       "0                                    N                                  N   \n",
       "1                                    N                                  N   \n",
       "\n",
       "  Txn Authorized through Emergency services Txn POS Env value = R?  \\\n",
       "0                                         N                      N   \n",
       "1                                         N                      N   \n",
       "\n",
       "  Auth Code Blank on Txn    CRC  Reason_Code Doc_Ind  \n",
       "0                      Y  Space     RC 83 C1       Y  \n",
       "1                      Y  Space     RC 83 C1       Y  \n",
       "\n",
       "[2 rows x 73 columns]"
      ]
     },
     "execution_count": 4,
     "metadata": {},
     "output_type": "execute_result"
    }
   ],
   "source": [
    "visaData.head(2)"
   ]
  },
  {
   "cell_type": "code",
   "execution_count": 5,
   "metadata": {},
   "outputs": [
    {
     "data": {
      "text/html": [
       "<div>\n",
       "<style scoped>\n",
       "    .dataframe tbody tr th:only-of-type {\n",
       "        vertical-align: middle;\n",
       "    }\n",
       "\n",
       "    .dataframe tbody tr th {\n",
       "        vertical-align: top;\n",
       "    }\n",
       "\n",
       "    .dataframe thead th {\n",
       "        text-align: right;\n",
       "    }\n",
       "</style>\n",
       "<table border=\"1\" class=\"dataframe\">\n",
       "  <thead>\n",
       "    <tr style=\"text-align: right;\">\n",
       "      <th></th>\n",
       "      <th>Chargeback Request Id</th>\n",
       "      <th>Posted Amount (USD)</th>\n",
       "      <th>Authorization Amount (USD)</th>\n",
       "      <th>Merchant Category Code</th>\n",
       "      <th>Merchant Category Code on Auth</th>\n",
       "      <th>Service Code</th>\n",
       "      <th>Chargeback_Amount (USD)</th>\n",
       "    </tr>\n",
       "  </thead>\n",
       "  <tbody>\n",
       "    <tr>\n",
       "      <th>count</th>\n",
       "      <td>2291.000000</td>\n",
       "      <td>2291.000000</td>\n",
       "      <td>2291.000000</td>\n",
       "      <td>2291.000000</td>\n",
       "      <td>2291.000000</td>\n",
       "      <td>2291.000000</td>\n",
       "      <td>2291.000000</td>\n",
       "    </tr>\n",
       "    <tr>\n",
       "      <th>mean</th>\n",
       "      <td>1246.000000</td>\n",
       "      <td>68.258104</td>\n",
       "      <td>67.697254</td>\n",
       "      <td>3950.059363</td>\n",
       "      <td>3950.103012</td>\n",
       "      <td>198.730249</td>\n",
       "      <td>68.191785</td>\n",
       "    </tr>\n",
       "    <tr>\n",
       "      <th>std</th>\n",
       "      <td>661.499055</td>\n",
       "      <td>236.743901</td>\n",
       "      <td>236.792334</td>\n",
       "      <td>1571.331384</td>\n",
       "      <td>1571.317771</td>\n",
       "      <td>14.896987</td>\n",
       "      <td>236.745090</td>\n",
       "    </tr>\n",
       "    <tr>\n",
       "      <th>min</th>\n",
       "      <td>101.000000</td>\n",
       "      <td>0.300000</td>\n",
       "      <td>0.300000</td>\n",
       "      <td>1711.000000</td>\n",
       "      <td>1711.000000</td>\n",
       "      <td>101.000000</td>\n",
       "      <td>0.300000</td>\n",
       "    </tr>\n",
       "    <tr>\n",
       "      <th>25%</th>\n",
       "      <td>673.500000</td>\n",
       "      <td>29.910000</td>\n",
       "      <td>27.850000</td>\n",
       "      <td>3022.000000</td>\n",
       "      <td>3022.000000</td>\n",
       "      <td>201.000000</td>\n",
       "      <td>29.910000</td>\n",
       "    </tr>\n",
       "    <tr>\n",
       "      <th>50%</th>\n",
       "      <td>1246.000000</td>\n",
       "      <td>53.430000</td>\n",
       "      <td>52.390000</td>\n",
       "      <td>3041.000000</td>\n",
       "      <td>3041.000000</td>\n",
       "      <td>201.000000</td>\n",
       "      <td>53.170000</td>\n",
       "    </tr>\n",
       "    <tr>\n",
       "      <th>75%</th>\n",
       "      <td>1818.500000</td>\n",
       "      <td>80.800000</td>\n",
       "      <td>80.600000</td>\n",
       "      <td>4215.000000</td>\n",
       "      <td>4215.000000</td>\n",
       "      <td>201.000000</td>\n",
       "      <td>80.800000</td>\n",
       "    </tr>\n",
       "    <tr>\n",
       "      <th>max</th>\n",
       "      <td>2391.000000</td>\n",
       "      <td>7715.760000</td>\n",
       "      <td>7715.760000</td>\n",
       "      <td>8641.000000</td>\n",
       "      <td>8642.000000</td>\n",
       "      <td>201.000000</td>\n",
       "      <td>7715.760000</td>\n",
       "    </tr>\n",
       "  </tbody>\n",
       "</table>\n",
       "</div>"
      ],
      "text/plain": [
       "       Chargeback Request Id  Posted Amount (USD)  Authorization Amount (USD)  \\\n",
       "count            2291.000000          2291.000000                 2291.000000   \n",
       "mean             1246.000000            68.258104                   67.697254   \n",
       "std               661.499055           236.743901                  236.792334   \n",
       "min               101.000000             0.300000                    0.300000   \n",
       "25%               673.500000            29.910000                   27.850000   \n",
       "50%              1246.000000            53.430000                   52.390000   \n",
       "75%              1818.500000            80.800000                   80.600000   \n",
       "max              2391.000000          7715.760000                 7715.760000   \n",
       "\n",
       "       Merchant Category Code  Merchant Category Code on Auth  Service Code  \\\n",
       "count             2291.000000                     2291.000000   2291.000000   \n",
       "mean              3950.059363                     3950.103012    198.730249   \n",
       "std               1571.331384                     1571.317771     14.896987   \n",
       "min               1711.000000                     1711.000000    101.000000   \n",
       "25%               3022.000000                     3022.000000    201.000000   \n",
       "50%               3041.000000                     3041.000000    201.000000   \n",
       "75%               4215.000000                     4215.000000    201.000000   \n",
       "max               8641.000000                     8642.000000    201.000000   \n",
       "\n",
       "       Chargeback_Amount (USD)  \n",
       "count              2291.000000  \n",
       "mean                 68.191785  \n",
       "std                 236.745090  \n",
       "min                   0.300000  \n",
       "25%                  29.910000  \n",
       "50%                  53.170000  \n",
       "75%                  80.800000  \n",
       "max                7715.760000  "
      ]
     },
     "execution_count": 5,
     "metadata": {},
     "output_type": "execute_result"
    }
   ],
   "source": [
    "visaData.describe()"
   ]
  },
  {
   "cell_type": "code",
   "execution_count": 6,
   "metadata": {},
   "outputs": [],
   "source": [
    "##If we explore dataset ,we find that only two rows having very high values of 7715.76 which will add difficluty to \n",
    "## explore the dataset in visualisation so lets drop only 2 records and take other records"
   ]
  },
  {
   "cell_type": "code",
   "execution_count": 7,
   "metadata": {},
   "outputs": [
    {
     "data": {
      "text/plain": [
       "7715.76"
      ]
     },
     "execution_count": 7,
     "metadata": {},
     "output_type": "execute_result"
    }
   ],
   "source": [
    "maxvalue=visaData[\"Posted Amount (USD)\"].max()\n",
    "maxvalue\n"
   ]
  },
  {
   "cell_type": "code",
   "execution_count": 8,
   "metadata": {},
   "outputs": [],
   "source": [
    "visaData=visaData[visaData[\"Posted Amount (USD)\"]!=maxvalue]"
   ]
  },
  {
   "cell_type": "code",
   "execution_count": 9,
   "metadata": {},
   "outputs": [
    {
     "data": {
      "text/plain": [
       "(2289, 73)"
      ]
     },
     "execution_count": 9,
     "metadata": {},
     "output_type": "execute_result"
    }
   ],
   "source": [
    "visaData.shape"
   ]
  },
  {
   "cell_type": "markdown",
   "metadata": {},
   "source": [
    "## Data Cleaning"
   ]
  },
  {
   "cell_type": "code",
   "execution_count": 10,
   "metadata": {},
   "outputs": [
    {
     "data": {
      "text/plain": [
       "array(['00', '01', 'Space', '06', '02', '90', 90, '05', '95', '07', '91',\n",
       "       91], dtype=object)"
      ]
     },
     "execution_count": 10,
     "metadata": {},
     "output_type": "execute_result"
    }
   ],
   "source": [
    "# If we explore dataset we will find that multiple columns are having missing, blank , null values which we need to clean\n",
    "visaData[\"POS Entry Mode\"].unique()\n",
    "\n"
   ]
  },
  {
   "cell_type": "code",
   "execution_count": 11,
   "metadata": {},
   "outputs": [],
   "source": [
    "#Let's drop columns which seems wont contribute to analysis and are unique values only for every transaction\n",
    "visaData.drop(columns=[\"Chargeback Request Id\",\"Card Number\",\"Merchant Name\"],axis=1,inplace=True)\n",
    "visaData.drop(columns=[\"Txn Date\",\"Central Processing Date\",\"Authorization Date\"],axis=1,inplace=True)\n",
    "visaData.drop(columns=[\"Unique Identifier\",\"Authorization code\"],axis=1,inplace=True)\n",
    "visaData.drop(columns=[\"Doc_Ind\"],axis=1,inplace=True)\n"
   ]
  },
  {
   "cell_type": "code",
   "execution_count": 12,
   "metadata": {},
   "outputs": [],
   "source": [
    "# Next ,lets clean missing, Blank , Space values in categorical area as a \n",
    "for column in visaData.columns:    \n",
    "    if(visaData[column].dtypes==\"object\"):       \n",
    "        if(column!=\"Terminal Indicator\"):\n",
    "            visaData[column]=visaData[column].replace({\"Space\":\"99\",\"Blank\":\"99\",\"N/A\":\"99\",np.NAN:\"99\"})\n",
    "        else:\n",
    "            visaData[column]=visaData[column].replace({\"Space\":99,\"Blank\":99,\"N/A\":\"99\",np.NAN:99})\n",
    "    else:\n",
    "        visaData[column].fillna(method='ffill')    "
   ]
  },
  {
   "cell_type": "code",
   "execution_count": 13,
   "metadata": {},
   "outputs": [
    {
     "data": {
      "text/html": [
       "<div>\n",
       "<style scoped>\n",
       "    .dataframe tbody tr th:only-of-type {\n",
       "        vertical-align: middle;\n",
       "    }\n",
       "\n",
       "    .dataframe tbody tr th {\n",
       "        vertical-align: top;\n",
       "    }\n",
       "\n",
       "    .dataframe thead th {\n",
       "        text-align: right;\n",
       "    }\n",
       "</style>\n",
       "<table border=\"1\" class=\"dataframe\">\n",
       "  <thead>\n",
       "    <tr style=\"text-align: right;\">\n",
       "      <th></th>\n",
       "      <th>Posted Amount (USD)</th>\n",
       "      <th>Authorization Amount (USD)</th>\n",
       "      <th>Txn_Type</th>\n",
       "      <th>Issuer Country</th>\n",
       "      <th>Merchant Country</th>\n",
       "      <th>Merchant Category Code</th>\n",
       "      <th>Merchant Category Code on Auth</th>\n",
       "      <th>Network</th>\n",
       "      <th>POS Entry Mode</th>\n",
       "      <th>POS Entry Mode on Auth</th>\n",
       "      <th>...</th>\n",
       "      <th>Txn Merchant Country in US Flg?</th>\n",
       "      <th>Txn Merchant Country in Europe Flg?</th>\n",
       "      <th>Txn Merchant Country in AP Flg?</th>\n",
       "      <th>Txn Merchant Country in CANADA Flg?</th>\n",
       "      <th>Txn Merchant Country in CMEA Flg?</th>\n",
       "      <th>Txn Authorized through Emergency services</th>\n",
       "      <th>Txn POS Env value = R?</th>\n",
       "      <th>Auth Code Blank on Txn</th>\n",
       "      <th>CRC</th>\n",
       "      <th>Reason_Code</th>\n",
       "    </tr>\n",
       "  </thead>\n",
       "  <tbody>\n",
       "    <tr>\n",
       "      <th>0</th>\n",
       "      <td>44.32</td>\n",
       "      <td>44.32</td>\n",
       "      <td>Purchase</td>\n",
       "      <td>US</td>\n",
       "      <td>IN</td>\n",
       "      <td>3000</td>\n",
       "      <td>3000</td>\n",
       "      <td>VSN</td>\n",
       "      <td>00</td>\n",
       "      <td>00</td>\n",
       "      <td>...</td>\n",
       "      <td>N</td>\n",
       "      <td>N</td>\n",
       "      <td>Y</td>\n",
       "      <td>N</td>\n",
       "      <td>N</td>\n",
       "      <td>N</td>\n",
       "      <td>N</td>\n",
       "      <td>Y</td>\n",
       "      <td>99</td>\n",
       "      <td>RC 83 C1</td>\n",
       "    </tr>\n",
       "    <tr>\n",
       "      <th>1</th>\n",
       "      <td>57.85</td>\n",
       "      <td>57.85</td>\n",
       "      <td>Purchase</td>\n",
       "      <td>US</td>\n",
       "      <td>FR</td>\n",
       "      <td>3001</td>\n",
       "      <td>3001</td>\n",
       "      <td>VSN</td>\n",
       "      <td>00</td>\n",
       "      <td>00</td>\n",
       "      <td>...</td>\n",
       "      <td>N</td>\n",
       "      <td>Y</td>\n",
       "      <td>N</td>\n",
       "      <td>N</td>\n",
       "      <td>N</td>\n",
       "      <td>N</td>\n",
       "      <td>N</td>\n",
       "      <td>Y</td>\n",
       "      <td>99</td>\n",
       "      <td>RC 83 C1</td>\n",
       "    </tr>\n",
       "    <tr>\n",
       "      <th>2</th>\n",
       "      <td>83.77</td>\n",
       "      <td>83.77</td>\n",
       "      <td>Purchase</td>\n",
       "      <td>US</td>\n",
       "      <td>FR</td>\n",
       "      <td>3002</td>\n",
       "      <td>3002</td>\n",
       "      <td>BII</td>\n",
       "      <td>01</td>\n",
       "      <td>01</td>\n",
       "      <td>...</td>\n",
       "      <td>N</td>\n",
       "      <td>Y</td>\n",
       "      <td>N</td>\n",
       "      <td>N</td>\n",
       "      <td>N</td>\n",
       "      <td>N</td>\n",
       "      <td>N</td>\n",
       "      <td>Y</td>\n",
       "      <td>99</td>\n",
       "      <td>RC 83 C1</td>\n",
       "    </tr>\n",
       "    <tr>\n",
       "      <th>3</th>\n",
       "      <td>56.44</td>\n",
       "      <td>56.44</td>\n",
       "      <td>Purchase</td>\n",
       "      <td>US</td>\n",
       "      <td>IN</td>\n",
       "      <td>3011</td>\n",
       "      <td>3011</td>\n",
       "      <td>BII</td>\n",
       "      <td>99</td>\n",
       "      <td>99</td>\n",
       "      <td>...</td>\n",
       "      <td>N</td>\n",
       "      <td>N</td>\n",
       "      <td>Y</td>\n",
       "      <td>N</td>\n",
       "      <td>N</td>\n",
       "      <td>N</td>\n",
       "      <td>N</td>\n",
       "      <td>Y</td>\n",
       "      <td>99</td>\n",
       "      <td>RC 83 C1</td>\n",
       "    </tr>\n",
       "    <tr>\n",
       "      <th>4</th>\n",
       "      <td>10.21</td>\n",
       "      <td>10.21</td>\n",
       "      <td>Purchase</td>\n",
       "      <td>US</td>\n",
       "      <td>IN</td>\n",
       "      <td>5533</td>\n",
       "      <td>5533</td>\n",
       "      <td>VSN</td>\n",
       "      <td>01</td>\n",
       "      <td>01</td>\n",
       "      <td>...</td>\n",
       "      <td>N</td>\n",
       "      <td>N</td>\n",
       "      <td>Y</td>\n",
       "      <td>N</td>\n",
       "      <td>N</td>\n",
       "      <td>N</td>\n",
       "      <td>N</td>\n",
       "      <td>Y</td>\n",
       "      <td>99</td>\n",
       "      <td>RC 83 C1</td>\n",
       "    </tr>\n",
       "  </tbody>\n",
       "</table>\n",
       "<p>5 rows × 64 columns</p>\n",
       "</div>"
      ],
      "text/plain": [
       "   Posted Amount (USD)  Authorization Amount (USD)  Txn_Type Issuer Country  \\\n",
       "0                44.32                       44.32  Purchase             US   \n",
       "1                57.85                       57.85  Purchase             US   \n",
       "2                83.77                       83.77  Purchase             US   \n",
       "3                56.44                       56.44  Purchase             US   \n",
       "4                10.21                       10.21  Purchase             US   \n",
       "\n",
       "  Merchant Country  Merchant Category Code  Merchant Category Code on Auth  \\\n",
       "0               IN                    3000                            3000   \n",
       "1               FR                    3001                            3001   \n",
       "2               FR                    3002                            3002   \n",
       "3               IN                    3011                            3011   \n",
       "4               IN                    5533                            5533   \n",
       "\n",
       "  Network POS Entry Mode POS Entry Mode on Auth  ...  \\\n",
       "0     VSN             00                     00  ...   \n",
       "1     VSN             00                     00  ...   \n",
       "2     BII             01                     01  ...   \n",
       "3     BII             99                     99  ...   \n",
       "4     VSN             01                     01  ...   \n",
       "\n",
       "  Txn Merchant Country in US Flg?  Txn Merchant Country in Europe Flg?  \\\n",
       "0                               N                                    N   \n",
       "1                               N                                    Y   \n",
       "2                               N                                    Y   \n",
       "3                               N                                    N   \n",
       "4                               N                                    N   \n",
       "\n",
       "  Txn Merchant Country in AP Flg? Txn Merchant Country in CANADA Flg?  \\\n",
       "0                               Y                                   N   \n",
       "1                               N                                   N   \n",
       "2                               N                                   N   \n",
       "3                               Y                                   N   \n",
       "4                               Y                                   N   \n",
       "\n",
       "  Txn Merchant Country in CMEA Flg? Txn Authorized through Emergency services  \\\n",
       "0                                 N                                         N   \n",
       "1                                 N                                         N   \n",
       "2                                 N                                         N   \n",
       "3                                 N                                         N   \n",
       "4                                 N                                         N   \n",
       "\n",
       "  Txn POS Env value = R? Auth Code Blank on Txn CRC Reason_Code  \n",
       "0                      N                      Y  99    RC 83 C1  \n",
       "1                      N                      Y  99    RC 83 C1  \n",
       "2                      N                      Y  99    RC 83 C1  \n",
       "3                      N                      Y  99    RC 83 C1  \n",
       "4                      N                      Y  99    RC 83 C1  \n",
       "\n",
       "[5 rows x 64 columns]"
      ]
     },
     "execution_count": 13,
     "metadata": {},
     "output_type": "execute_result"
    }
   ],
   "source": [
    "# If we explore below dataset , we dont have any null, missing , space , blank values \n",
    "visaData.head()"
   ]
  },
  {
   "cell_type": "code",
   "execution_count": 14,
   "metadata": {},
   "outputs": [],
   "source": [
    "#visaData.isnull().sum() "
   ]
  },
  {
   "cell_type": "markdown",
   "metadata": {},
   "source": [
    "## Visualisation"
   ]
  },
  {
   "cell_type": "code",
   "execution_count": 15,
   "metadata": {},
   "outputs": [
    {
     "data": {
      "text/plain": [
       "Text(0.5, 1.0, 'My title')"
      ]
     },
     "execution_count": 15,
     "metadata": {},
     "output_type": "execute_result"
    },
    {
     "data": {
      "image/png": "[encoded data removed]",
      "text/plain": [
       "<Figure size 1152x432 with 1 Axes>"
      ]
     },
     "metadata": {
      "needs_background": "light"
     },
     "output_type": "display_data"
    },
    {
     "data": {
      "image/png": "[encoded data removed]",
      "text/plain": [
       "<Figure size 1152x432 with 1 Axes>"
      ]
     },
     "metadata": {
      "needs_background": "light"
     },
     "output_type": "display_data"
    },
    {
     "data": {
      "image/png": "[encoded data removed]",
      "text/plain": [
       "<Figure size 1152x432 with 1 Axes>"
      ]
     },
     "metadata": {
      "needs_background": "light"
     },
     "output_type": "display_data"
    }
   ],
   "source": [
    "plt.figure(figsize=(16, 6))\n",
    "\n",
    "cmap = sns.cubehelix_palette(rot=2, as_cmap=True)\n",
    "ax = sns.scatterplot(y=\"Posted Amount (USD)\", x=\"Reason_Code\",\n",
    "                     hue=\"Network\",\n",
    "                     sizes=(320, 200),\n",
    "                     data=visaData)\n",
    "ax.legend(loc='center right', bbox_to_anchor=(0.9, 0.8), ncol=1)\n",
    "plt.title('My title')\n",
    "\n",
    "\n",
    "plt.figure(figsize=(16, 6))\n",
    "\n",
    "cmap = sns.cubehelix_palette(rot=2, as_cmap=True)\n",
    "ax = sns.scatterplot(y=\"Posted Amount (USD)\", x=\"Reason_Code\",\n",
    "                     hue=\"Physical Card Present\",\n",
    "                     sizes=(320, 200),\n",
    "                     data=visaData)\n",
    "ax.legend(loc='center right', bbox_to_anchor=(0.9, 0.8), ncol=1)\n",
    "plt.title('My title')\n",
    "\n",
    "\n",
    "plt.figure(figsize=(16, 6))\n",
    "\n",
    "cmap = sns.cubehelix_palette(rot=2, as_cmap=True)\n",
    "ax = sns.scatterplot(y=\"Posted Amount (USD)\", x=\"Reason_Code\",\n",
    "                     hue=\"Merchant Country\",\n",
    "                     sizes=(320, 200),\n",
    "                     data=visaData)\n",
    "ax.legend(loc='center right', bbox_to_anchor=(0.9, 0.65), ncol=1)\n",
    "plt.title('My title')"
   ]
  },
  {
   "cell_type": "code",
   "execution_count": 16,
   "metadata": {},
   "outputs": [],
   "source": [
    "def plot_graph(X,Dataframe,Title):\n",
    "    fig = plt.figure(figsize=(15,5))\n",
    "    ax = sns.countplot(x=X, data=Dataframe ,palette='pastel' ,edgecolor=sns.color_palette(\"dark\", 3))\n",
    "    ax.set_title(Title)\n",
    "    ax.legend(loc='upper right')\n",
    "\n",
    "    for t in ax.patches:\n",
    "        if (np.isnan(float(t.get_height()))):\n",
    "            ax.annotate(0, (t.get_x(), 0))\n",
    "        else:\n",
    "            ax.annotate(str(format(int(t.get_height()), ',d')), (t.get_x(), t.get_height()*1.01))\n",
    "    plt.show();   \n",
    "    "
   ]
  },
  {
   "cell_type": "code",
   "execution_count": 17,
   "metadata": {},
   "outputs": [
    {
     "name": "stderr",
     "output_type": "stream",
     "text": [
      "No handles with labels found to put in legend.\n"
     ]
    },
    {
     "data": {
      "image/png": "[encoded data removed]",
      "text/plain": [
       "<Figure size 1080x360 with 1 Axes>"
      ]
     },
     "metadata": {
      "needs_background": "light"
     },
     "output_type": "display_data"
    },
    {
     "name": "stderr",
     "output_type": "stream",
     "text": [
      "No handles with labels found to put in legend.\n"
     ]
    },
    {
     "data": {
      "image/png": "[encoded data removed]",
      "text/plain": [
       "<Figure size 1080x360 with 1 Axes>"
      ]
     },
     "metadata": {
      "needs_background": "light"
     },
     "output_type": "display_data"
    }
   ],
   "source": [
    "plot_graph(\"Reason_Code\",visaData,\"Reason Code Counts\")\n",
    "\n",
    "plot_graph(\"Merchant Country\",visaData,\"Merchant Country Counts\")\n",
    "\n"
   ]
  },
  {
   "cell_type": "code",
   "execution_count": 18,
   "metadata": {},
   "outputs": [
    {
     "name": "stderr",
     "output_type": "stream",
     "text": [
      "No handles with labels found to put in legend.\n"
     ]
    },
    {
     "data": {
      "text/plain": [
       "Text(0.5, 1.0, 'Posted Amount vs Merchant County')"
      ]
     },
     "execution_count": 18,
     "metadata": {},
     "output_type": "execute_result"
    },
    {
     "data": {
      "image/png": "[encoded data removed]",
      "text/plain": [
       "<Figure size 1152x432 with 1 Axes>"
      ]
     },
     "metadata": {
      "needs_background": "light"
     },
     "output_type": "display_data"
    }
   ],
   "source": [
    "plt.figure(figsize=(16, 6))\n",
    "ax = sns.barplot(y=\"Posted Amount (USD)\", x=\"Merchant Country\",data=visaData)\n",
    "ax.legend(loc=\"upper right\")\n",
    "plt.title('Posted Amount vs Merchant County')"
   ]
  },
  {
   "cell_type": "code",
   "execution_count": 19,
   "metadata": {},
   "outputs": [
    {
     "data": {
      "text/plain": [
       "<seaborn.axisgrid.FacetGrid at 0x1c7aa567080>"
      ]
     },
     "execution_count": 19,
     "metadata": {},
     "output_type": "execute_result"
    },
    {
     "data": {
      "text/plain": [
       "<Figure size 1872x1872 with 0 Axes>"
      ]
     },
     "metadata": {},
     "output_type": "display_data"
    },
    {
     "data": {
      "image/png": "[encoded data removed]",
      "text/plain": [
       "<Figure size 509.5x432 with 1 Axes>"
      ]
     },
     "metadata": {
      "needs_background": "light"
     },
     "output_type": "display_data"
    }
   ],
   "source": [
    "plt.figure(figsize=(26, 26))\n",
    "# Plot miles per gallon against horsepower with other semantics\n",
    "sns.relplot(x=\"Merchant Category Code\", y=\"Reason_Code\", hue='Network',\n",
    "            sizes=(40, 400), alpha=.5, palette=\"muted\",\n",
    "            height=6, data=visaData)"
   ]
  },
  {
   "cell_type": "code",
   "execution_count": 20,
   "metadata": {},
   "outputs": [
    {
     "data": {
      "text/plain": [
       "<seaborn.axisgrid.FacetGrid at 0x1c7aac5f390>"
      ]
     },
     "execution_count": 20,
     "metadata": {},
     "output_type": "execute_result"
    },
    {
     "data": {
      "text/plain": [
       "<Figure size 1872x1872 with 0 Axes>"
      ]
     },
     "metadata": {},
     "output_type": "display_data"
    },
    {
     "data": {
      "image/png": "[encoded data removed]",
      "text/plain": [
       "<Figure size 535.125x432 with 1 Axes>"
      ]
     },
     "metadata": {
      "needs_background": "light"
     },
     "output_type": "display_data"
    }
   ],
   "source": [
    "plt.figure(figsize=(26, 26))\n",
    "# Plot miles per gallon against horsepower with other semantics\n",
    "sns.relplot(x=\"Merchant Category Code\", y=\"Posted Amount (USD)\", hue='Reason_Code',\n",
    "            sizes=(40, 40), alpha=.5, palette=\"muted\",\n",
    "            height=6, data=visaData)"
   ]
  },
  {
   "cell_type": "code",
   "execution_count": 21,
   "metadata": {},
   "outputs": [
    {
     "data": {
      "text/plain": [
       "<seaborn.axisgrid.FacetGrid at 0x1c7aa5a99e8>"
      ]
     },
     "execution_count": 21,
     "metadata": {},
     "output_type": "execute_result"
    },
    {
     "data": {
      "text/plain": [
       "<Figure size 1872x1872 with 0 Axes>"
      ]
     },
     "metadata": {},
     "output_type": "display_data"
    },
    {
     "data": {
      "image/png": "[encoded data removed]",
      "text/plain": [
       "<Figure size 535.125x432 with 1 Axes>"
      ]
     },
     "metadata": {
      "needs_background": "light"
     },
     "output_type": "display_data"
    }
   ],
   "source": [
    "plt.figure(figsize=(26, 26))\n",
    "# Plot miles per gallon against horsepower with other semantics\n",
    "sns.relplot(x=\"Authorization Amount (USD)\", y=\"Posted Amount (USD)\", hue='Reason_Code',\n",
    "            sizes=(40, 40), alpha=.5, palette=\"muted\",\n",
    "            height=6, data=visaData)"
   ]
  },
  {
   "cell_type": "code",
   "execution_count": 22,
   "metadata": {},
   "outputs": [
    {
     "data": {
      "text/plain": [
       "<seaborn.axisgrid.FacetGrid at 0x1c7aa5a99b0>"
      ]
     },
     "execution_count": 22,
     "metadata": {},
     "output_type": "execute_result"
    },
    {
     "data": {
      "text/plain": [
       "<Figure size 1872x1872 with 0 Axes>"
      ]
     },
     "metadata": {},
     "output_type": "display_data"
    },
    {
     "data": {
      "image/png": "[encoded data removed]",
      "text/plain": [
       "<Figure size 576.5x432 with 1 Axes>"
      ]
     },
     "metadata": {
      "needs_background": "light"
     },
     "output_type": "display_data"
    }
   ],
   "source": [
    "plt.figure(figsize=(26, 26))\n",
    "# Plot miles per gallon against horsepower with other semantics\n",
    "sns.relplot(x=\"Merchant Category Code\", y=\"Posted Amount (USD)\", hue='Physical Card Present',\n",
    "            sizes=(40, 40), alpha=.5, palette=\"muted\",\n",
    "            height=6, data=visaData)"
   ]
  },
  {
   "cell_type": "code",
   "execution_count": 23,
   "metadata": {},
   "outputs": [
    {
     "data": {
      "text/plain": [
       "array([3, 1, 99], dtype=object)"
      ]
     },
     "execution_count": 23,
     "metadata": {},
     "output_type": "execute_result"
    }
   ],
   "source": [
    "visaData[\"Terminal Indicator\"].unique()"
   ]
  },
  {
   "cell_type": "code",
   "execution_count": 24,
   "metadata": {},
   "outputs": [
    {
     "data": {
      "text/html": [
       "<div>\n",
       "<style scoped>\n",
       "    .dataframe tbody tr th:only-of-type {\n",
       "        vertical-align: middle;\n",
       "    }\n",
       "\n",
       "    .dataframe tbody tr th {\n",
       "        vertical-align: top;\n",
       "    }\n",
       "\n",
       "    .dataframe thead th {\n",
       "        text-align: right;\n",
       "    }\n",
       "</style>\n",
       "<table border=\"1\" class=\"dataframe\">\n",
       "  <thead>\n",
       "    <tr style=\"text-align: right;\">\n",
       "      <th></th>\n",
       "      <th>Posted Amount (USD)</th>\n",
       "      <th>Authorization Amount (USD)</th>\n",
       "      <th>Txn_Type</th>\n",
       "      <th>Issuer Country</th>\n",
       "      <th>Merchant Country</th>\n",
       "      <th>Merchant Category Code</th>\n",
       "      <th>Merchant Category Code on Auth</th>\n",
       "      <th>Network</th>\n",
       "      <th>POS Entry Mode</th>\n",
       "      <th>POS Entry Mode on Auth</th>\n",
       "      <th>...</th>\n",
       "      <th>Txn Merchant Country in US Flg?</th>\n",
       "      <th>Txn Merchant Country in Europe Flg?</th>\n",
       "      <th>Txn Merchant Country in AP Flg?</th>\n",
       "      <th>Txn Merchant Country in CANADA Flg?</th>\n",
       "      <th>Txn Merchant Country in CMEA Flg?</th>\n",
       "      <th>Txn Authorized through Emergency services</th>\n",
       "      <th>Txn POS Env value = R?</th>\n",
       "      <th>Auth Code Blank on Txn</th>\n",
       "      <th>CRC</th>\n",
       "      <th>Reason_Code</th>\n",
       "    </tr>\n",
       "  </thead>\n",
       "  <tbody>\n",
       "    <tr>\n",
       "      <th>0</th>\n",
       "      <td>44.32</td>\n",
       "      <td>44.32</td>\n",
       "      <td>Purchase</td>\n",
       "      <td>US</td>\n",
       "      <td>IN</td>\n",
       "      <td>3000</td>\n",
       "      <td>3000</td>\n",
       "      <td>VSN</td>\n",
       "      <td>00</td>\n",
       "      <td>00</td>\n",
       "      <td>...</td>\n",
       "      <td>N</td>\n",
       "      <td>N</td>\n",
       "      <td>Y</td>\n",
       "      <td>N</td>\n",
       "      <td>N</td>\n",
       "      <td>N</td>\n",
       "      <td>N</td>\n",
       "      <td>Y</td>\n",
       "      <td>99</td>\n",
       "      <td>RC 83 C1</td>\n",
       "    </tr>\n",
       "    <tr>\n",
       "      <th>1</th>\n",
       "      <td>57.85</td>\n",
       "      <td>57.85</td>\n",
       "      <td>Purchase</td>\n",
       "      <td>US</td>\n",
       "      <td>FR</td>\n",
       "      <td>3001</td>\n",
       "      <td>3001</td>\n",
       "      <td>VSN</td>\n",
       "      <td>00</td>\n",
       "      <td>00</td>\n",
       "      <td>...</td>\n",
       "      <td>N</td>\n",
       "      <td>Y</td>\n",
       "      <td>N</td>\n",
       "      <td>N</td>\n",
       "      <td>N</td>\n",
       "      <td>N</td>\n",
       "      <td>N</td>\n",
       "      <td>Y</td>\n",
       "      <td>99</td>\n",
       "      <td>RC 83 C1</td>\n",
       "    </tr>\n",
       "  </tbody>\n",
       "</table>\n",
       "<p>2 rows × 64 columns</p>\n",
       "</div>"
      ],
      "text/plain": [
       "   Posted Amount (USD)  Authorization Amount (USD)  Txn_Type Issuer Country  \\\n",
       "0                44.32                       44.32  Purchase             US   \n",
       "1                57.85                       57.85  Purchase             US   \n",
       "\n",
       "  Merchant Country  Merchant Category Code  Merchant Category Code on Auth  \\\n",
       "0               IN                    3000                            3000   \n",
       "1               FR                    3001                            3001   \n",
       "\n",
       "  Network POS Entry Mode POS Entry Mode on Auth  ...  \\\n",
       "0     VSN             00                     00  ...   \n",
       "1     VSN             00                     00  ...   \n",
       "\n",
       "  Txn Merchant Country in US Flg?  Txn Merchant Country in Europe Flg?  \\\n",
       "0                               N                                    N   \n",
       "1                               N                                    Y   \n",
       "\n",
       "  Txn Merchant Country in AP Flg? Txn Merchant Country in CANADA Flg?  \\\n",
       "0                               Y                                   N   \n",
       "1                               N                                   N   \n",
       "\n",
       "  Txn Merchant Country in CMEA Flg? Txn Authorized through Emergency services  \\\n",
       "0                                 N                                         N   \n",
       "1                                 N                                         N   \n",
       "\n",
       "  Txn POS Env value = R? Auth Code Blank on Txn CRC Reason_Code  \n",
       "0                      N                      Y  99    RC 83 C1  \n",
       "1                      N                      Y  99    RC 83 C1  \n",
       "\n",
       "[2 rows x 64 columns]"
      ]
     },
     "execution_count": 24,
     "metadata": {},
     "output_type": "execute_result"
    }
   ],
   "source": [
    "visaData.head(2)"
   ]
  },
  {
   "cell_type": "code",
   "execution_count": null,
   "metadata": {},
   "outputs": [],
   "source": []
  },
  {
   "cell_type": "code",
   "execution_count": null,
   "metadata": {},
   "outputs": [],
   "source": []
  },
  {
   "cell_type": "code",
   "execution_count": null,
   "metadata": {},
   "outputs": [],
   "source": []
  },
  {
   "cell_type": "markdown",
   "metadata": {},
   "source": [
    "## Data Mapping from Mapping Sheets"
   ]
  },
  {
   "cell_type": "code",
   "execution_count": 25,
   "metadata": {},
   "outputs": [],
   "source": [
    "\n",
    "area_dict = dict(zip(mapping_ISO_Country_Code[\"ISO 3166-1 2 Letter Code\"],mapping_ISO_Country_Code[\"ISO 3166-1 Number\"]))\n",
    "\n",
    "\n",
    "#Ref - https://pbpython.com/categorical-encoding.html\n",
    "\n",
    "cleanup_nums = {\"Txn_Type\":     {\n",
    "                                    \"Purchase\": 1, \n",
    "                                    \"Cash Withdrawal\": 2,\n",
    "                                    \"Merchandise Return\": 3,\n",
    "                                    \"Merchandise Return\": 3,\n",
    "                                    \"Money Transfer\": 4,\n",
    "                                    \"Payment\": 5,\n",
    "                                    \"Quasi Cash\": 6,\n",
    "                                    \"Funds Disbursement\": 7                                \n",
    "                                },\n",
    "                \n",
    "                \"Network\":      {\n",
    "                                    \"VSN\": 1 ,\n",
    "                                    \"BII\": 2 ,\n",
    "                                    \"MC\": 3 ,\n",
    "                                    \"MMS\": 4 ,\n",
    "                                    \"ILK\": 5 ,\n",
    "                                    \"VSV\": 6 ,\n",
    "                                    \"VSP\": 7                     \n",
    "                                },\n",
    "                \n",
    "                \"POS Entry Mode\":{\n",
    "                                    \"Space\":99,\n",
    "                                    \"01\":1,\n",
    "                                    \"02\":2,\n",
    "                                    \"03\":3,                      \n",
    "                                    \"04\":4,\n",
    "                                    \"05\":5,\n",
    "                                    \"06\":6,\n",
    "                                    \"07\":7,\n",
    "                                    \"84\":84,\n",
    "                                    \"90\":90,\n",
    "                                    \"91\":91,\n",
    "                                    \"95\":95,\n",
    "                                    \"96\":96                    \n",
    "                                 },\n",
    "\n",
    "                \"POS Entry Mode on Auth\":{\n",
    "                                    \"Space\":99,\n",
    "                                    \"01\":1,\n",
    "                                    \"02\":2,\n",
    "                                    \"03\":3,                      \n",
    "                                    \"04\":4,\n",
    "                                    \"05\":5,\n",
    "                                    \"06\":6,\n",
    "                                    \"07\":7,\n",
    "                                    \"84\":84,\n",
    "                                    \"90\":90,\n",
    "                                    \"91\":91,\n",
    "                                    \"95\":95,\n",
    "                                    \"96\":96                    \n",
    "                                 },\n",
    "                \n",
    "                \"POS Environment\":{\n",
    "                                    \"Space\":99,\n",
    "                                    \"C\":1,\n",
    "                                    \"R\":2,\n",
    "                                    \"I\":3                    \n",
    "                                },\n",
    "                #Service Code keys entry not done \n",
    "                \n",
    "                \"MOTO_ECI_Ind\":{\n",
    "                                    \"Space\":99,\n",
    "                                    \"1\":1,\n",
    "                                    \"2\":2,\n",
    "                                    \"3\":3,                      \n",
    "                                    \"4\":4,\n",
    "                                    \"5\":5,\n",
    "                                    \"6\":6,\n",
    "                                    \"7\":7,\n",
    "                                    \"8\":8                                    \n",
    "                                 },\n",
    "                \"Terminal Indicator\":{\n",
    "                                    \"Space\":99,\n",
    "                                    \"1\":1,\n",
    "                                    \"2\":2,\n",
    "                                    \"3\":3,                      \n",
    "                                    \"4\":4,\n",
    "                                    \"5\":5,\n",
    "                                    \"9\":9                                    \n",
    "                                 },\n",
    "                \n",
    "                \"Terminal capability code\":{\n",
    "                                    \"Space\":99,\n",
    "                                    \"0\":0,\n",
    "                                    \"1\":1,\n",
    "                                    \"2\":2,\n",
    "                                    \"3\":3,                      \n",
    "                                    \"4\":4,\n",
    "                                    \"5\":5,\n",
    "                                    \"6\":6,\n",
    "                                    \"7\":7,\n",
    "                                    \"8\":8,\n",
    "                                    \"9\":9                                    \n",
    "                                 },\n",
    "                \n",
    "                \"Cardholder ID Method\":{\n",
    "                                    \"Space\":99,                                    \n",
    "                                    \"1\":1,\n",
    "                                    \"2\":2,\n",
    "                                    \"3\":3,                      \n",
    "                                    \"4\":4                                           \n",
    "                                 },\n",
    "                \n",
    "                \"UCAF\":          {\n",
    "                                    \"Blank\":99,\n",
    "                                    \"0\":0,                                    \n",
    "                                    \"1\":1,\n",
    "                                    \"2\":2,\n",
    "                                    \"3\":3,                      \n",
    "                                    \"4\":2,\n",
    "                                    \"5\":3,                      \n",
    "                                    \"6\":2,\n",
    "                                    \"7\":3\n",
    "                                 },\n",
    "                \n",
    "                \"Floor Limit\":{\n",
    "                                    \"Space\":99,\n",
    "                                    \"A\":0,\n",
    "                                    \"B\":1,\n",
    "                                    \"C\":2,\n",
    "                                    \"D\":3,                      \n",
    "                                    \"E\":4,\n",
    "                                    \"I\":5,\n",
    "                                    \"Z\":6                                    \n",
    "                                 },\n",
    "                \n",
    "                \"CVV2 Result\":{\n",
    "                                    \"Space\":99,\n",
    "                                    \"M\":0,\n",
    "                                    \"N\":1,\n",
    "                                    \"P\":2,\n",
    "                                    \"S\":3,                      \n",
    "                                    \"U\":4                                    \n",
    "                                 },\n",
    "                \"Pin Present ?\":{\n",
    "                                    \"N\":0,\n",
    "                                    \"Y\":1\n",
    "                                    \n",
    "                                 },\n",
    "                \n",
    "                 \"CB Rights Ind\":{\n",
    "                                    \"Blank\":99,\n",
    "                                    \"01\":1,\n",
    "                                    \"02\":2,\n",
    "                                    \"03\":3,                      \n",
    "                                    \"04\":4,\n",
    "                                    \"05\":5,\n",
    "                                    \"08\":8,\n",
    "                                    \"09\":9,\n",
    "                                    \"10\":10,\n",
    "                                    \"11\":11,\n",
    "                                    \"12\":12,\n",
    "                                    \"13\":13,\n",
    "                                    \"14\":14,\n",
    "                                    \"17\":17\n",
    "                                 },\n",
    "                \n",
    "                \n",
    "                \"Issuer Country\": area_dict,\n",
    "                \"Merchant Country\": area_dict\n",
    "                \n",
    "                }\n",
    "\n",
    "\n",
    "mappedData=visaData.replace(cleanup_nums)\n"
   ]
  },
  {
   "cell_type": "code",
   "execution_count": 26,
   "metadata": {},
   "outputs": [],
   "source": [
    "#mappedData[\"Physical Card Present\"] = mappedData[\"Physical Card Present\"].apply(lambda x: 0 if x == \"N\" else 1)\n",
    "columnnames=[\n",
    "                \"Physical Card Present\",\n",
    "                \"Fraud Dispute\",\n",
    "                \"Authorization Denied by Customer\",\n",
    "                \"Report fictitious/invalid Card No\",\n",
    "                \"Counterfiet Card Ind\",\n",
    "                \"Card listed in Exception File Ind\",\n",
    "                \"Cardholder Participation\",\n",
    "                \"Legible Imprint with Merchant\",\n",
    "                \"Valid Cardholder Signature with Merchant\",\n",
    "                \"Card in posession with Cardholder at time of Fraud\",\n",
    "                \"Cardholder Does NOT Recognize \",\n",
    "                \"EMPS Ind\",\n",
    "                \"Stand-In Auth Ind\",\n",
    "                \"Incorrect Track Data on Auth\",\n",
    "                \"Incorrect Txn Data on Auth\",\n",
    "                \"Partial Or Non-Match Auth Ind\",\n",
    "                \"EMV Liability Shift Ind\",\n",
    "                \"PIN Preferring Chip Card\",\n",
    "                \"EMV-PIN compliant Terminal\",\n",
    "                \"Prev_Txn_Flag\",\n",
    "                \"Shipping Cost Included?\",\n",
    "                \"Emergency Cash Disbursement\",\n",
    "                \"Secure E-Comm Txn?\",\n",
    "                \"CVV2 Code Result - N or U?\",\n",
    "                \"Report of Invalid/illegible/absent CVV2 by customer\",\n",
    "                \"Issuer in US  Flg ?\",             \n",
    "                \"Issuer in Europe  Flg ?\",\n",
    "                \"Issuer in CANADA Flg ?\",\n",
    "                \"Issuer in AP  Flg ?\",\n",
    "                \"Issuer in CMEA  Flg ?\",\n",
    "                \"Txn Merchant Country in US Flg?\",\n",
    "                \"Txn Merchant Country in Europe Flg?\",\n",
    "                \"Txn Merchant Country in AP Flg?\",\n",
    "                \"Txn Merchant Country in CANADA Flg?\",\n",
    "                \"Txn Merchant Country in CMEA Flg?\",\n",
    "                \"Txn Authorized through Emergency services\",\n",
    "                \"Txn POS Env value = R?\",\n",
    "                \"Auth Code Blank on Txn\"\n",
    "    \n",
    "            ]\n",
    "\n",
    "for cols in columnnames:\n",
    "    mappedData[cols] = mappedData[cols].apply(lambda x: 0 if x == \"N\" else (0 if x == \"N/A\" else 1 ))#Marvah\n",
    "\n"
   ]
  },
  {
   "cell_type": "code",
   "execution_count": 27,
   "metadata": {},
   "outputs": [
    {
     "data": {
      "text/html": [
       "<div>\n",
       "<style scoped>\n",
       "    .dataframe tbody tr th:only-of-type {\n",
       "        vertical-align: middle;\n",
       "    }\n",
       "\n",
       "    .dataframe tbody tr th {\n",
       "        vertical-align: top;\n",
       "    }\n",
       "\n",
       "    .dataframe thead th {\n",
       "        text-align: right;\n",
       "    }\n",
       "</style>\n",
       "<table border=\"1\" class=\"dataframe\">\n",
       "  <thead>\n",
       "    <tr style=\"text-align: right;\">\n",
       "      <th></th>\n",
       "      <th>Posted Amount (USD)</th>\n",
       "      <th>Authorization Amount (USD)</th>\n",
       "      <th>Txn_Type</th>\n",
       "      <th>Issuer Country</th>\n",
       "      <th>Merchant Country</th>\n",
       "      <th>Merchant Category Code</th>\n",
       "      <th>Merchant Category Code on Auth</th>\n",
       "      <th>Network</th>\n",
       "      <th>POS Entry Mode</th>\n",
       "      <th>POS Entry Mode on Auth</th>\n",
       "      <th>...</th>\n",
       "      <th>Issuer in CMEA  Flg ?</th>\n",
       "      <th>Txn Merchant Country in US Flg?</th>\n",
       "      <th>Txn Merchant Country in Europe Flg?</th>\n",
       "      <th>Txn Merchant Country in AP Flg?</th>\n",
       "      <th>Txn Merchant Country in CANADA Flg?</th>\n",
       "      <th>Txn Merchant Country in CMEA Flg?</th>\n",
       "      <th>Txn Authorized through Emergency services</th>\n",
       "      <th>Txn POS Env value = R?</th>\n",
       "      <th>Auth Code Blank on Txn</th>\n",
       "      <th>CRC</th>\n",
       "    </tr>\n",
       "  </thead>\n",
       "  <tbody>\n",
       "    <tr>\n",
       "      <th>0</th>\n",
       "      <td>44.32</td>\n",
       "      <td>44.32</td>\n",
       "      <td>1</td>\n",
       "      <td>840</td>\n",
       "      <td>356</td>\n",
       "      <td>3000</td>\n",
       "      <td>3000</td>\n",
       "      <td>1</td>\n",
       "      <td>0</td>\n",
       "      <td>0</td>\n",
       "      <td>...</td>\n",
       "      <td>0</td>\n",
       "      <td>0</td>\n",
       "      <td>0</td>\n",
       "      <td>1</td>\n",
       "      <td>0</td>\n",
       "      <td>0</td>\n",
       "      <td>0</td>\n",
       "      <td>0</td>\n",
       "      <td>1</td>\n",
       "      <td>99</td>\n",
       "    </tr>\n",
       "    <tr>\n",
       "      <th>1</th>\n",
       "      <td>57.85</td>\n",
       "      <td>57.85</td>\n",
       "      <td>1</td>\n",
       "      <td>840</td>\n",
       "      <td>250</td>\n",
       "      <td>3001</td>\n",
       "      <td>3001</td>\n",
       "      <td>1</td>\n",
       "      <td>0</td>\n",
       "      <td>0</td>\n",
       "      <td>...</td>\n",
       "      <td>0</td>\n",
       "      <td>0</td>\n",
       "      <td>1</td>\n",
       "      <td>0</td>\n",
       "      <td>0</td>\n",
       "      <td>0</td>\n",
       "      <td>0</td>\n",
       "      <td>0</td>\n",
       "      <td>1</td>\n",
       "      <td>99</td>\n",
       "    </tr>\n",
       "  </tbody>\n",
       "</table>\n",
       "<p>2 rows × 63 columns</p>\n",
       "</div>"
      ],
      "text/plain": [
       "   Posted Amount (USD)  Authorization Amount (USD) Txn_Type Issuer Country  \\\n",
       "0                44.32                       44.32        1            840   \n",
       "1                57.85                       57.85        1            840   \n",
       "\n",
       "  Merchant Country  Merchant Category Code  Merchant Category Code on Auth  \\\n",
       "0              356                    3000                            3000   \n",
       "1              250                    3001                            3001   \n",
       "\n",
       "  Network  POS Entry Mode  POS Entry Mode on Auth  ... Issuer in CMEA  Flg ?  \\\n",
       "0       1               0                       0  ...                     0   \n",
       "1       1               0                       0  ...                     0   \n",
       "\n",
       "   Txn Merchant Country in US Flg? Txn Merchant Country in Europe Flg?  \\\n",
       "0                                0                                   0   \n",
       "1                                0                                   1   \n",
       "\n",
       "   Txn Merchant Country in AP Flg? Txn Merchant Country in CANADA Flg?  \\\n",
       "0                                1                                   0   \n",
       "1                                0                                   0   \n",
       "\n",
       "   Txn Merchant Country in CMEA Flg?  \\\n",
       "0                                  0   \n",
       "1                                  0   \n",
       "\n",
       "  Txn Authorized through Emergency services Txn POS Env value = R?  \\\n",
       "0                                         0                      0   \n",
       "1                                         0                      0   \n",
       "\n",
       "  Auth Code Blank on Txn  CRC  \n",
       "0                      1   99  \n",
       "1                      1   99  \n",
       "\n",
       "[2 rows x 63 columns]"
      ]
     },
     "execution_count": 27,
     "metadata": {},
     "output_type": "execute_result"
    }
   ],
   "source": [
    "mappedData.drop(columns=\"Reason_Code\",axis=1, inplace=True)\n",
    "mappedData.head(2)"
   ]
  },
  {
   "cell_type": "code",
   "execution_count": 28,
   "metadata": {},
   "outputs": [],
   "source": [
    "mappedData.to_csv(\"./mappedData.csv\")"
   ]
  },
  {
   "cell_type": "markdown",
   "metadata": {},
   "source": [
    "## Hot Encoded Data (Dummies)"
   ]
  },
  {
   "cell_type": "code",
   "execution_count": 29,
   "metadata": {},
   "outputs": [],
   "source": [
    "predict = visaData[\"Reason_Code\"]\n",
    "inputdata= visaData.drop(columns=\"Reason_Code\",axis=1)"
   ]
  },
  {
   "cell_type": "code",
   "execution_count": 30,
   "metadata": {},
   "outputs": [
    {
     "data": {
      "text/html": [
       "<div>\n",
       "<style scoped>\n",
       "    .dataframe tbody tr th:only-of-type {\n",
       "        vertical-align: middle;\n",
       "    }\n",
       "\n",
       "    .dataframe tbody tr th {\n",
       "        vertical-align: top;\n",
       "    }\n",
       "\n",
       "    .dataframe thead th {\n",
       "        text-align: right;\n",
       "    }\n",
       "</style>\n",
       "<table border=\"1\" class=\"dataframe\">\n",
       "  <thead>\n",
       "    <tr style=\"text-align: right;\">\n",
       "      <th></th>\n",
       "      <th>Posted Amount (USD)</th>\n",
       "      <th>Authorization Amount (USD)</th>\n",
       "      <th>Merchant Category Code</th>\n",
       "      <th>Merchant Category Code on Auth</th>\n",
       "      <th>Service Code</th>\n",
       "      <th>Chargeback_Amount (USD)</th>\n",
       "      <th>Txn_Type_Purchase</th>\n",
       "      <th>Issuer Country_US</th>\n",
       "      <th>Merchant Country_AU</th>\n",
       "      <th>Merchant Country_CA</th>\n",
       "      <th>...</th>\n",
       "      <th>Txn Merchant Country in CMEA Flg?_N</th>\n",
       "      <th>Txn Merchant Country in CMEA Flg?_Y</th>\n",
       "      <th>Txn Authorized through Emergency services_N</th>\n",
       "      <th>Txn Authorized through Emergency services_Y</th>\n",
       "      <th>Txn POS Env value = R?_N</th>\n",
       "      <th>Auth Code Blank on Txn_N</th>\n",
       "      <th>Auth Code Blank on Txn_Y</th>\n",
       "      <th>CRC_28</th>\n",
       "      <th>CRC_30</th>\n",
       "      <th>CRC_99</th>\n",
       "    </tr>\n",
       "  </thead>\n",
       "  <tbody>\n",
       "    <tr>\n",
       "      <th>0</th>\n",
       "      <td>44.32</td>\n",
       "      <td>44.32</td>\n",
       "      <td>3000</td>\n",
       "      <td>3000</td>\n",
       "      <td>201</td>\n",
       "      <td>44.32</td>\n",
       "      <td>1</td>\n",
       "      <td>1</td>\n",
       "      <td>0</td>\n",
       "      <td>0</td>\n",
       "      <td>...</td>\n",
       "      <td>1</td>\n",
       "      <td>0</td>\n",
       "      <td>1</td>\n",
       "      <td>0</td>\n",
       "      <td>1</td>\n",
       "      <td>0</td>\n",
       "      <td>1</td>\n",
       "      <td>0</td>\n",
       "      <td>0</td>\n",
       "      <td>1</td>\n",
       "    </tr>\n",
       "    <tr>\n",
       "      <th>1</th>\n",
       "      <td>57.85</td>\n",
       "      <td>57.85</td>\n",
       "      <td>3001</td>\n",
       "      <td>3001</td>\n",
       "      <td>201</td>\n",
       "      <td>57.85</td>\n",
       "      <td>1</td>\n",
       "      <td>1</td>\n",
       "      <td>0</td>\n",
       "      <td>0</td>\n",
       "      <td>...</td>\n",
       "      <td>1</td>\n",
       "      <td>0</td>\n",
       "      <td>1</td>\n",
       "      <td>0</td>\n",
       "      <td>1</td>\n",
       "      <td>0</td>\n",
       "      <td>1</td>\n",
       "      <td>0</td>\n",
       "      <td>0</td>\n",
       "      <td>1</td>\n",
       "    </tr>\n",
       "    <tr>\n",
       "      <th>2</th>\n",
       "      <td>83.77</td>\n",
       "      <td>83.77</td>\n",
       "      <td>3002</td>\n",
       "      <td>3002</td>\n",
       "      <td>201</td>\n",
       "      <td>83.77</td>\n",
       "      <td>1</td>\n",
       "      <td>1</td>\n",
       "      <td>0</td>\n",
       "      <td>0</td>\n",
       "      <td>...</td>\n",
       "      <td>1</td>\n",
       "      <td>0</td>\n",
       "      <td>1</td>\n",
       "      <td>0</td>\n",
       "      <td>1</td>\n",
       "      <td>0</td>\n",
       "      <td>1</td>\n",
       "      <td>0</td>\n",
       "      <td>0</td>\n",
       "      <td>1</td>\n",
       "    </tr>\n",
       "    <tr>\n",
       "      <th>3</th>\n",
       "      <td>56.44</td>\n",
       "      <td>56.44</td>\n",
       "      <td>3011</td>\n",
       "      <td>3011</td>\n",
       "      <td>201</td>\n",
       "      <td>56.44</td>\n",
       "      <td>1</td>\n",
       "      <td>1</td>\n",
       "      <td>0</td>\n",
       "      <td>0</td>\n",
       "      <td>...</td>\n",
       "      <td>1</td>\n",
       "      <td>0</td>\n",
       "      <td>1</td>\n",
       "      <td>0</td>\n",
       "      <td>1</td>\n",
       "      <td>0</td>\n",
       "      <td>1</td>\n",
       "      <td>0</td>\n",
       "      <td>0</td>\n",
       "      <td>1</td>\n",
       "    </tr>\n",
       "    <tr>\n",
       "      <th>4</th>\n",
       "      <td>10.21</td>\n",
       "      <td>10.21</td>\n",
       "      <td>5533</td>\n",
       "      <td>5533</td>\n",
       "      <td>201</td>\n",
       "      <td>10.21</td>\n",
       "      <td>1</td>\n",
       "      <td>1</td>\n",
       "      <td>0</td>\n",
       "      <td>0</td>\n",
       "      <td>...</td>\n",
       "      <td>1</td>\n",
       "      <td>0</td>\n",
       "      <td>1</td>\n",
       "      <td>0</td>\n",
       "      <td>1</td>\n",
       "      <td>0</td>\n",
       "      <td>1</td>\n",
       "      <td>0</td>\n",
       "      <td>0</td>\n",
       "      <td>1</td>\n",
       "    </tr>\n",
       "  </tbody>\n",
       "</table>\n",
       "<p>5 rows × 163 columns</p>\n",
       "</div>"
      ],
      "text/plain": [
       "   Posted Amount (USD)  Authorization Amount (USD)  Merchant Category Code  \\\n",
       "0                44.32                       44.32                    3000   \n",
       "1                57.85                       57.85                    3001   \n",
       "2                83.77                       83.77                    3002   \n",
       "3                56.44                       56.44                    3011   \n",
       "4                10.21                       10.21                    5533   \n",
       "\n",
       "   Merchant Category Code on Auth  Service Code  Chargeback_Amount (USD)  \\\n",
       "0                            3000           201                    44.32   \n",
       "1                            3001           201                    57.85   \n",
       "2                            3002           201                    83.77   \n",
       "3                            3011           201                    56.44   \n",
       "4                            5533           201                    10.21   \n",
       "\n",
       "   Txn_Type_Purchase  Issuer Country_US  Merchant Country_AU  \\\n",
       "0                  1                  1                    0   \n",
       "1                  1                  1                    0   \n",
       "2                  1                  1                    0   \n",
       "3                  1                  1                    0   \n",
       "4                  1                  1                    0   \n",
       "\n",
       "   Merchant Country_CA  ...  Txn Merchant Country in CMEA Flg?_N  \\\n",
       "0                    0  ...                                    1   \n",
       "1                    0  ...                                    1   \n",
       "2                    0  ...                                    1   \n",
       "3                    0  ...                                    1   \n",
       "4                    0  ...                                    1   \n",
       "\n",
       "   Txn Merchant Country in CMEA Flg?_Y  \\\n",
       "0                                    0   \n",
       "1                                    0   \n",
       "2                                    0   \n",
       "3                                    0   \n",
       "4                                    0   \n",
       "\n",
       "   Txn Authorized through Emergency services_N  \\\n",
       "0                                            1   \n",
       "1                                            1   \n",
       "2                                            1   \n",
       "3                                            1   \n",
       "4                                            1   \n",
       "\n",
       "   Txn Authorized through Emergency services_Y  Txn POS Env value = R?_N  \\\n",
       "0                                            0                         1   \n",
       "1                                            0                         1   \n",
       "2                                            0                         1   \n",
       "3                                            0                         1   \n",
       "4                                            0                         1   \n",
       "\n",
       "   Auth Code Blank on Txn_N  Auth Code Blank on Txn_Y  CRC_28  CRC_30  CRC_99  \n",
       "0                         0                         1       0       0       1  \n",
       "1                         0                         1       0       0       1  \n",
       "2                         0                         1       0       0       1  \n",
       "3                         0                         1       0       0       1  \n",
       "4                         0                         1       0       0       1  \n",
       "\n",
       "[5 rows x 163 columns]"
      ]
     },
     "execution_count": 30,
     "metadata": {},
     "output_type": "execute_result"
    }
   ],
   "source": [
    "encodedData=pd.get_dummies(inputdata)\n",
    "encodedData.head()"
   ]
  },
  {
   "cell_type": "code",
   "execution_count": 31,
   "metadata": {},
   "outputs": [],
   "source": [
    "encodedData.to_csv(\"./encodedData.csv\")"
   ]
  },
  {
   "cell_type": "code",
   "execution_count": null,
   "metadata": {},
   "outputs": [],
   "source": []
  },
  {
   "cell_type": "code",
   "execution_count": null,
   "metadata": {},
   "outputs": [],
   "source": []
  },
  {
   "cell_type": "markdown",
   "metadata": {},
   "source": [
    "# Feature Engineering"
   ]
  },
  {
   "cell_type": "code",
   "execution_count": 32,
   "metadata": {
    "scrolled": true
   },
   "outputs": [
    {
     "data": {
      "text/html": [
       "<div>\n",
       "<style scoped>\n",
       "    .dataframe tbody tr th:only-of-type {\n",
       "        vertical-align: middle;\n",
       "    }\n",
       "\n",
       "    .dataframe tbody tr th {\n",
       "        vertical-align: top;\n",
       "    }\n",
       "\n",
       "    .dataframe thead th {\n",
       "        text-align: right;\n",
       "    }\n",
       "</style>\n",
       "<table border=\"1\" class=\"dataframe\">\n",
       "  <thead>\n",
       "    <tr style=\"text-align: right;\">\n",
       "      <th></th>\n",
       "      <th>Posted Amount (USD)</th>\n",
       "      <th>Authorization Amount (USD)</th>\n",
       "      <th>Merchant Category Code</th>\n",
       "      <th>Merchant Category Code on Auth</th>\n",
       "      <th>Service Code</th>\n",
       "      <th>Chargeback_Amount (USD)</th>\n",
       "      <th>Txn_Type_Purchase</th>\n",
       "      <th>Issuer Country_US</th>\n",
       "      <th>Merchant Country_AU</th>\n",
       "      <th>Merchant Country_CA</th>\n",
       "      <th>...</th>\n",
       "      <th>Txn Merchant Country in CMEA Flg?_N</th>\n",
       "      <th>Txn Merchant Country in CMEA Flg?_Y</th>\n",
       "      <th>Txn Authorized through Emergency services_N</th>\n",
       "      <th>Txn Authorized through Emergency services_Y</th>\n",
       "      <th>Txn POS Env value = R?_N</th>\n",
       "      <th>Auth Code Blank on Txn_N</th>\n",
       "      <th>Auth Code Blank on Txn_Y</th>\n",
       "      <th>CRC_28</th>\n",
       "      <th>CRC_30</th>\n",
       "      <th>CRC_99</th>\n",
       "    </tr>\n",
       "  </thead>\n",
       "  <tbody>\n",
       "    <tr>\n",
       "      <th>0</th>\n",
       "      <td>44.32</td>\n",
       "      <td>44.32</td>\n",
       "      <td>3000</td>\n",
       "      <td>3000</td>\n",
       "      <td>201</td>\n",
       "      <td>44.32</td>\n",
       "      <td>1</td>\n",
       "      <td>1</td>\n",
       "      <td>0</td>\n",
       "      <td>0</td>\n",
       "      <td>...</td>\n",
       "      <td>1</td>\n",
       "      <td>0</td>\n",
       "      <td>1</td>\n",
       "      <td>0</td>\n",
       "      <td>1</td>\n",
       "      <td>0</td>\n",
       "      <td>1</td>\n",
       "      <td>0</td>\n",
       "      <td>0</td>\n",
       "      <td>1</td>\n",
       "    </tr>\n",
       "    <tr>\n",
       "      <th>1</th>\n",
       "      <td>57.85</td>\n",
       "      <td>57.85</td>\n",
       "      <td>3001</td>\n",
       "      <td>3001</td>\n",
       "      <td>201</td>\n",
       "      <td>57.85</td>\n",
       "      <td>1</td>\n",
       "      <td>1</td>\n",
       "      <td>0</td>\n",
       "      <td>0</td>\n",
       "      <td>...</td>\n",
       "      <td>1</td>\n",
       "      <td>0</td>\n",
       "      <td>1</td>\n",
       "      <td>0</td>\n",
       "      <td>1</td>\n",
       "      <td>0</td>\n",
       "      <td>1</td>\n",
       "      <td>0</td>\n",
       "      <td>0</td>\n",
       "      <td>1</td>\n",
       "    </tr>\n",
       "  </tbody>\n",
       "</table>\n",
       "<p>2 rows × 163 columns</p>\n",
       "</div>"
      ],
      "text/plain": [
       "   Posted Amount (USD)  Authorization Amount (USD)  Merchant Category Code  \\\n",
       "0                44.32                       44.32                    3000   \n",
       "1                57.85                       57.85                    3001   \n",
       "\n",
       "   Merchant Category Code on Auth  Service Code  Chargeback_Amount (USD)  \\\n",
       "0                            3000           201                    44.32   \n",
       "1                            3001           201                    57.85   \n",
       "\n",
       "   Txn_Type_Purchase  Issuer Country_US  Merchant Country_AU  \\\n",
       "0                  1                  1                    0   \n",
       "1                  1                  1                    0   \n",
       "\n",
       "   Merchant Country_CA  ...  Txn Merchant Country in CMEA Flg?_N  \\\n",
       "0                    0  ...                                    1   \n",
       "1                    0  ...                                    1   \n",
       "\n",
       "   Txn Merchant Country in CMEA Flg?_Y  \\\n",
       "0                                    0   \n",
       "1                                    0   \n",
       "\n",
       "   Txn Authorized through Emergency services_N  \\\n",
       "0                                            1   \n",
       "1                                            1   \n",
       "\n",
       "   Txn Authorized through Emergency services_Y  Txn POS Env value = R?_N  \\\n",
       "0                                            0                         1   \n",
       "1                                            0                         1   \n",
       "\n",
       "   Auth Code Blank on Txn_N  Auth Code Blank on Txn_Y  CRC_28  CRC_30  CRC_99  \n",
       "0                         0                         1       0       0       1  \n",
       "1                         0                         1       0       0       1  \n",
       "\n",
       "[2 rows x 163 columns]"
      ]
     },
     "execution_count": 32,
     "metadata": {},
     "output_type": "execute_result"
    }
   ],
   "source": [
    "encodedData.head(2)"
   ]
  },
  {
   "cell_type": "code",
   "execution_count": null,
   "metadata": {},
   "outputs": [],
   "source": []
  },
  {
   "cell_type": "code",
   "execution_count": null,
   "metadata": {},
   "outputs": [],
   "source": []
  },
  {
   "cell_type": "markdown",
   "metadata": {},
   "source": [
    "# Data Split"
   ]
  },
  {
   "cell_type": "code",
   "execution_count": 33,
   "metadata": {},
   "outputs": [
    {
     "name": "stdout",
     "output_type": "stream",
     "text": [
      "(1602, 163)\n",
      "(1602,)\n",
      "(687, 163)\n",
      "(687,)\n"
     ]
    }
   ],
   "source": [
    "x=encodedData.values\n",
    "y=visaData[\"Reason_Code\"]\n",
    "\n",
    "x_train,x_test,y_train,y_test=train_test_split(x,y,test_size=0.3,random_state=1)\n",
    "\n",
    "print(x_train.shape)\n",
    "print(y_train.shape)\n",
    "print(x_test.shape)\n",
    "print(y_test.shape)"
   ]
  },
  {
   "cell_type": "code",
   "execution_count": null,
   "metadata": {},
   "outputs": [],
   "source": []
  },
  {
   "cell_type": "code",
   "execution_count": null,
   "metadata": {},
   "outputs": [],
   "source": []
  },
  {
   "cell_type": "markdown",
   "metadata": {},
   "source": [
    "# Decision Tree ( Encoded Data)"
   ]
  },
  {
   "cell_type": "code",
   "execution_count": 34,
   "metadata": {},
   "outputs": [],
   "source": [
    "dt=DecisionTreeClassifier(criterion=\"entropy\")\n",
    "dt_model=dt.fit(x_train,y_train)\n"
   ]
  },
  {
   "cell_type": "code",
   "execution_count": 35,
   "metadata": {},
   "outputs": [
    {
     "data": {
      "text/plain": [
       "[('Posted Amount (USD)', 0.0),\n",
       " ('Authorization Amount (USD)', 0.0),\n",
       " ('Merchant Category Code', 0.0),\n",
       " ('Merchant Category Code on Auth', 0.0013561551823560417),\n",
       " ('Service Code', 0.0),\n",
       " ('Chargeback_Amount (USD)', 0.0),\n",
       " ('Txn_Type_Purchase', 0.0),\n",
       " ('Issuer Country_US', 0.0),\n",
       " ('Merchant Country_AU', 0.0),\n",
       " ('Merchant Country_CA', 0.0),\n",
       " ('Merchant Country_DE', 0.0),\n",
       " ('Merchant Country_FI', 0.0),\n",
       " ('Merchant Country_FR', 0.0),\n",
       " ('Merchant Country_GR', 0.0),\n",
       " ('Merchant Country_HU', 0.0),\n",
       " ('Merchant Country_IN', 0.0),\n",
       " ('Merchant Country_IT', 0.0),\n",
       " ('Merchant Country_SG', 0.0),\n",
       " ('Merchant Country_US', 0.0),\n",
       " ('Network_BII', 0.0),\n",
       " ('Network_VSN', 0.0),\n",
       " ('POS Entry Mode_90', 0.0),\n",
       " ('POS Entry Mode_91', 0.0),\n",
       " ('POS Entry Mode_00', 0.0),\n",
       " ('POS Entry Mode_01', 0.0),\n",
       " ('POS Entry Mode_02', 0.0),\n",
       " ('POS Entry Mode_05', 0.0),\n",
       " ('POS Entry Mode_06', 0.0),\n",
       " ('POS Entry Mode_07', 0.0),\n",
       " ('POS Entry Mode_90', 0.0),\n",
       " ('POS Entry Mode_91', 0.0),\n",
       " ('POS Entry Mode_95', 0.0),\n",
       " ('POS Entry Mode_99', 0.0),\n",
       " ('POS Entry Mode on Auth_90', 0.0),\n",
       " ('POS Entry Mode on Auth_91', 0.0),\n",
       " ('POS Entry Mode on Auth_00', 0.0),\n",
       " ('POS Entry Mode on Auth_01', 0.0),\n",
       " ('POS Entry Mode on Auth_02', 0.0),\n",
       " ('POS Entry Mode on Auth_05', 0.0),\n",
       " ('POS Entry Mode on Auth_06', 0.0),\n",
       " ('POS Entry Mode on Auth_07', 0.0),\n",
       " ('POS Entry Mode on Auth_90', 0.0),\n",
       " ('POS Entry Mode on Auth_91', 0.0),\n",
       " ('POS Entry Mode on Auth_95', 0.0),\n",
       " ('POS Entry Mode on Auth_99', 0.0),\n",
       " ('POS Environment_99', 0.0),\n",
       " ('MOTO_ECI_Ind_01', 0.0),\n",
       " ('MOTO_ECI_Ind_03', 0.0),\n",
       " ('MOTO_ECI_Ind_04', 0.0),\n",
       " ('MOTO_ECI_Ind_07', 0.0),\n",
       " ('MOTO_ECI_Ind_08', 0.0),\n",
       " ('MOTO_ECI_Ind_09', 0.0),\n",
       " ('MOTO_ECI_Ind_99', 0.0),\n",
       " ('Physical Card Present_N', 0.0),\n",
       " ('Physical Card Present_Y', 0.0),\n",
       " ('Terminal Indicator_1', 0.0),\n",
       " ('Terminal Indicator_3', 0.0),\n",
       " ('Terminal Indicator_99', 0.0),\n",
       " ('Terminal capability code_1', 0.0),\n",
       " ('Terminal capability code_0', 0.0),\n",
       " ('Terminal capability code_2', 0.0),\n",
       " ('Terminal capability code_5', 0.0),\n",
       " ('Terminal capability code_8', 0.0),\n",
       " ('Terminal capability code_99', 0.0),\n",
       " ('Cardholder ID Method_01', 0.0),\n",
       " ('Cardholder ID Method_03', 0.0),\n",
       " ('Cardholder ID Method_04', 0.0),\n",
       " ('Cardholder ID Method_99', 0.0),\n",
       " ('RPS Ind_99', 0.0),\n",
       " ('UCAF_99', 0.0),\n",
       " ('CB Rights Ind_05', 0.0),\n",
       " ('CB Rights Ind_08', 0.0),\n",
       " ('CB Rights Ind_09', 0.0),\n",
       " ('CB Rights Ind_14', 0.0),\n",
       " ('CB Rights Ind_16', 0.0),\n",
       " ('CB Rights Ind_99', 0.0),\n",
       " ('Floor Limit_99', 0.0),\n",
       " ('Floor Limit_A', 0.0),\n",
       " ('Floor Limit_B', 0.0),\n",
       " ('Floor Limit_C', 0.0),\n",
       " ('Floor Limit_D', 0.0),\n",
       " ('Floor Limit_I', 0.0),\n",
       " ('Floor Limit_Z', 0.0),\n",
       " ('CVV2 Result_99', 0.0),\n",
       " ('CVV2 Result_M', 0.0),\n",
       " ('CVV2 Result_N', 0.0),\n",
       " ('CVV2 Result_P', 0.0012052293214510252),\n",
       " ('CVV2 Result_S', 0.0),\n",
       " ('CVV2 Result_U', 0.0),\n",
       " ('CAVV Result_0', 0.0),\n",
       " ('CAVV Result_99', 0.0),\n",
       " ('Pin Present ?_N', 0.0),\n",
       " ('Fraud Dispute_N', 0.0),\n",
       " ('Fraud Dispute_Y', 0.0),\n",
       " ('Authorization Denied by Customer_N', 0.0),\n",
       " ('Authorization Denied by Customer_Y', 0.0),\n",
       " ('Report fictitious/invalid Card No_N', 0.0),\n",
       " ('Report fictitious/invalid Card No_Y', 0.0),\n",
       " ('Counterfiet Card Ind_N', 0.0),\n",
       " ('Counterfiet Card Ind_Y', 0.050939877040101965),\n",
       " ('Card listed in Exception File Ind_N', 0.0),\n",
       " ('Card listed in Exception File Ind_Y', 0.0),\n",
       " ('Cardholder Participation_N', 0.0),\n",
       " ('Cardholder Participation_Y', 0.12498344219405809),\n",
       " ('Legible Imprint with Merchant_99', 0.29495347802550864),\n",
       " ('Legible Imprint with Merchant_N', 0.0),\n",
       " ('Legible Imprint with Merchant_Y', 0.0),\n",
       " ('Valid Cardholder Signature with Merchant_99', 0.0),\n",
       " ('Valid Cardholder Signature with Merchant_N', 0.052925956445973865),\n",
       " ('Card in posession with Cardholder at time of Fraud_99', 0.0),\n",
       " ('Card in posession with Cardholder at time of Fraud_N', 0.0),\n",
       " ('Card in posession with Cardholder at time of Fraud_Y', 0.0),\n",
       " ('Cardholder Does NOT Recognize _N', 0.0),\n",
       " ('Cardholder Does NOT Recognize _Y', 0.0),\n",
       " ('EMPS Ind_99', 0.0),\n",
       " ('EMPS Ind_N', 0.0),\n",
       " ('Stand-In Auth Ind_N', 0.0),\n",
       " ('Incorrect Track Data on Auth_N', 0.0),\n",
       " ('Incorrect Track Data on Auth_Y', 0.04065987382163017),\n",
       " ('Incorrect Txn Data on Auth_N', 0.0),\n",
       " ('Incorrect Txn Data on Auth_Y', 0.0),\n",
       " ('Partial Or Non-Match Auth Ind_N', 0.06510176788455659),\n",
       " ('Partial Or Non-Match Auth Ind_Y', 0.0),\n",
       " ('EMV Liability Shift Ind_99', 0.0),\n",
       " ('EMV Liability Shift Ind_N', 0.16428244070161194),\n",
       " ('EMV Liability Shift Ind_Y', 0.0),\n",
       " ('PIN Preferring Chip Card_99', 0.0),\n",
       " ('PIN Preferring Chip Card_N', 0.0713063403628566),\n",
       " ('PIN Preferring Chip Card_Y', 0.0),\n",
       " ('EMV-PIN compliant Terminal_N', 0.0),\n",
       " ('EMV-PIN compliant Terminal_Y', 0.0),\n",
       " ('Prev_Txn_Flag_N', 0.0),\n",
       " ('Prev_Txn_Flag_Y', 0.0),\n",
       " ('Shipping Cost Included?_99', 0.0),\n",
       " ('Shipping Cost Included?_N', 0.0),\n",
       " ('Emergency Cash Disbursement_N', 0.0),\n",
       " ('Secure E-Comm Txn?_N', 0.0),\n",
       " ('CVV2 Code Result - N or U?_N', 0.0),\n",
       " ('Report of Invalid/illegible/absent CVV2 by customer_99',\n",
       "  0.08806720639156039),\n",
       " ('Report of Invalid/illegible/absent CVV2 by customer_N', 0.0),\n",
       " ('Issuer in US  Flg ?_Y', 0.0),\n",
       " ('Issuer in Europe  Flg ?_N', 0.0),\n",
       " ('Issuer in CANADA Flg ?_N', 0.0),\n",
       " ('Issuer in AP  Flg ?_N', 0.0),\n",
       " ('Issuer in CMEA  Flg ?_N', 0.0),\n",
       " ('Txn Merchant Country in US Flg?_N', 0.020664649894238434),\n",
       " ('Txn Merchant Country in US Flg?_Y', 0.0),\n",
       " ('Txn Merchant Country in Europe Flg?_N', 0.0),\n",
       " ('Txn Merchant Country in Europe Flg?_Y', 0.0),\n",
       " ('Txn Merchant Country in AP Flg?_N', 0.0021726307404268197),\n",
       " ('Txn Merchant Country in AP Flg?_Y', 0.0),\n",
       " ('Txn Merchant Country in CANADA Flg?_N', 0.0),\n",
       " ('Txn Merchant Country in CANADA Flg?_Y', 0.0),\n",
       " ('Txn Merchant Country in CMEA Flg?_N', 0.021380951993669364),\n",
       " ('Txn Merchant Country in CMEA Flg?_Y', 0.0),\n",
       " ('Txn Authorized through Emergency services_N', 0.0),\n",
       " ('Txn Authorized through Emergency services_Y', 0.0),\n",
       " ('Txn POS Env value = R?_N', 0.0),\n",
       " ('Auth Code Blank on Txn_N', 0.0),\n",
       " ('Auth Code Blank on Txn_Y', 0.0),\n",
       " ('CRC_28', 0.0),\n",
       " ('CRC_30', 0.0),\n",
       " ('CRC_99', 0.0)]"
      ]
     },
     "execution_count": 35,
     "metadata": {},
     "output_type": "execute_result"
    }
   ],
   "source": [
    "dt_model.feature_importances_\n",
    "list(zip(encodedData.columns,dt_model.feature_importances_))"
   ]
  },
  {
   "cell_type": "code",
   "execution_count": 36,
   "metadata": {},
   "outputs": [],
   "source": [
    "from sklearn import tree\n",
    "with open(\"CardTree.dot\", 'w') as f:\n",
    "    f = tree.export_graphviz(dt_model, out_file=f, feature_names=encodedData.columns)"
   ]
  },
  {
   "cell_type": "code",
   "execution_count": 37,
   "metadata": {},
   "outputs": [
    {
     "name": "stdout",
     "output_type": "stream",
     "text": [
      "0.9941775836972343\n"
     ]
    },
    {
     "data": {
      "text/plain": [
       "array([[ 61,   0,   0,   0,   0,   0,   0,   0,   0,   0,   0],\n",
       "       [  0,  47,   0,   0,   0,   0,   0,   0,   0,   0,   0],\n",
       "       [  0,   0,  45,   0,   0,   0,   0,   0,   0,   0,   0],\n",
       "       [  0,   0,   0,  98,   0,   0,   0,   0,   0,   0,   0],\n",
       "       [  0,   0,   0,   0,  37,   0,   0,   0,   0,   0,   0],\n",
       "       [  0,   0,   0,   0,   0,  94,   0,   0,   0,   0,   0],\n",
       "       [  0,   0,   0,   0,   0,   0,  52,   0,   0,   0,   0],\n",
       "       [  0,   0,   0,   0,   0,   0,   0, 100,   0,   0,   0],\n",
       "       [  0,   0,   0,   0,   0,   0,   0,   0,  57,   0,   0],\n",
       "       [  0,   0,   0,   0,   0,   0,   0,   0,   0,  38,   2],\n",
       "       [  0,   0,   0,   0,   0,   0,   0,   0,   0,   2,  54]],\n",
       "      dtype=int64)"
      ]
     },
     "execution_count": 37,
     "metadata": {},
     "output_type": "execute_result"
    }
   ],
   "source": [
    "dt_prd=dt_model.predict(x_test)\n",
    "print(accuracy_score(y_test,dt_prd))\n",
    "df_confusion = confusion_matrix(y_test,dt_prd)\n",
    "df_confusion"
   ]
  },
  {
   "cell_type": "code",
   "execution_count": 38,
   "metadata": {},
   "outputs": [
    {
     "data": {
      "image/png": "[encoded data removed]",
      "text/plain": [
       "<Figure size 288x288 with 2 Axes>"
      ]
     },
     "metadata": {
      "needs_background": "light"
     },
     "output_type": "display_data"
    }
   ],
   "source": [
    "def plot_confusion_matrix(df_confusion, title='Confusion matrix', cmap=plt.cm.gray_r):\n",
    "    plt.matshow(df_confusion, cmap=cmap) # imshow\n",
    "    plt.title('Confusion Matrix')\n",
    "    plt.colorbar()\n",
    "    plt.ylabel('Actual')\n",
    "    plt.xlabel('Predicted')\n",
    "\n",
    "plot_confusion_matrix(df_confusion)"
   ]
  },
  {
   "cell_type": "code",
   "execution_count": 39,
   "metadata": {},
   "outputs": [
    {
     "name": "stdout",
     "output_type": "stream",
     "text": [
      "              precision    recall  f1-score   support\n",
      "\n",
      "       RC 57       1.00      1.00      1.00        61\n",
      "    RC 62 C1       1.00      1.00      1.00        47\n",
      "    RC 62 C2       1.00      1.00      1.00        45\n",
      "    RC 72 C1       1.00      1.00      1.00        98\n",
      "    RC 72 C2       1.00      1.00      1.00        37\n",
      "       RC 75       1.00      1.00      1.00        94\n",
      "    RC 81 C1       1.00      1.00      1.00        52\n",
      "    RC 81 C2       1.00      1.00      1.00       100\n",
      "    RC 81 C3       1.00      1.00      1.00        57\n",
      "    RC 83 C1       0.95      0.95      0.95        40\n",
      "    RC 83 C2       0.96      0.96      0.96        56\n",
      "\n",
      "   micro avg       0.99      0.99      0.99       687\n",
      "   macro avg       0.99      0.99      0.99       687\n",
      "weighted avg       0.99      0.99      0.99       687\n",
      "\n"
     ]
    }
   ],
   "source": [
    "print(metrics.classification_report(y_test,dt_prd))"
   ]
  },
  {
   "cell_type": "markdown",
   "metadata": {},
   "source": [
    "# Model saving using Pickle library"
   ]
  },
  {
   "cell_type": "code",
   "execution_count": 40,
   "metadata": {},
   "outputs": [],
   "source": [
    "import pickle\n",
    "#https://medium.com/analytics-vidhya/how-to-deploy-simple-machine-learning-models-for-free-56cdccc62b8d\n",
    "# Saving model to disk\n",
    "# Serialize dt_model object into a file called mlp_nn.pkg on disk using pickle\n",
    "with open('dt_model.pkl', 'wb') as handle:\n",
    "    pickle.dump(dt_model, handle, pickle.HIGHEST_PROTOCOL)"
   ]
  },
  {
   "cell_type": "code",
   "execution_count": 41,
   "metadata": {},
   "outputs": [],
   "source": [
    "with open('dt_model.pkl', 'rb') as handle:\n",
    "    dt_model = pickle.load(handle)    \n",
    "# no we can call various methods over mlp_nn as as:\n",
    "# Let X_test be the feature (UNIX timestamp) for which we want to predict the output \n",
    "result = dt_model.predict(x_test)"
   ]
  },
  {
   "cell_type": "markdown",
   "metadata": {},
   "source": [
    "# Test Pickle Model "
   ]
  },
  {
   "cell_type": "code",
   "execution_count": 42,
   "metadata": {},
   "outputs": [],
   "source": [
    "testvalues=encodedData.loc[encodedData['Posted Amount (USD)'] ==24.36].values"
   ]
  },
  {
   "cell_type": "code",
   "execution_count": 43,
   "metadata": {},
   "outputs": [
    {
     "data": {
      "text/plain": [
       "array(['RC 72 C2'], dtype=object)"
      ]
     },
     "execution_count": 43,
     "metadata": {},
     "output_type": "execute_result"
    }
   ],
   "source": [
    "dt_model.predict(testvalues)\n"
   ]
  },
  {
   "cell_type": "markdown",
   "metadata": {},
   "source": [
    "# Test model is working till here"
   ]
  },
  {
   "cell_type": "code",
   "execution_count": null,
   "metadata": {},
   "outputs": [],
   "source": []
  },
  {
   "cell_type": "code",
   "execution_count": 44,
   "metadata": {},
   "outputs": [
    {
     "ename": "SyntaxError",
     "evalue": "invalid syntax (<ipython-input-44-a6774c8535dd>, line 1)",
     "output_type": "error",
     "traceback": [
      "\u001b[1;36m  File \u001b[1;32m\"<ipython-input-44-a6774c8535dd>\"\u001b[1;36m, line \u001b[1;32m1\u001b[0m\n\u001b[1;33m    STOP HERE\u001b[0m\n\u001b[1;37m            ^\u001b[0m\n\u001b[1;31mSyntaxError\u001b[0m\u001b[1;31m:\u001b[0m invalid syntax\n"
     ]
    }
   ],
   "source": [
    "STOP HERE"
   ]
  },
  {
   "cell_type": "code",
   "execution_count": null,
   "metadata": {},
   "outputs": [],
   "source": []
  },
  {
   "cell_type": "code",
   "execution_count": null,
   "metadata": {},
   "outputs": [],
   "source": []
  },
  {
   "cell_type": "code",
   "execution_count": null,
   "metadata": {},
   "outputs": [],
   "source": []
  },
  {
   "cell_type": "code",
   "execution_count": null,
   "metadata": {},
   "outputs": [],
   "source": []
  },
  {
   "cell_type": "code",
   "execution_count": null,
   "metadata": {},
   "outputs": [],
   "source": []
  },
  {
   "cell_type": "code",
   "execution_count": null,
   "metadata": {},
   "outputs": [],
   "source": []
  },
  {
   "cell_type": "markdown",
   "metadata": {},
   "source": [
    "# Grid Search\n",
    "Grid-searching is the process of scanning the data to configure optimal parameters for a given model."
   ]
  },
  {
   "cell_type": "code",
   "execution_count": null,
   "metadata": {},
   "outputs": [],
   "source": [
    "# Different parameters we want to test\n",
    "\n",
    "max_depth = [5,10,15] \n",
    "criterion = ['gini', 'entropy']"
   ]
  },
  {
   "cell_type": "code",
   "execution_count": null,
   "metadata": {},
   "outputs": [],
   "source": [
    "# Building the model\n",
    "\n",
    "my_tree_three = tree.DecisionTreeClassifier()\n",
    "\n",
    "grid = GridSearchCV(estimator = my_tree_three, cv=3, \n",
    "                    param_grid = dict(max_depth = max_depth, criterion = criterion))"
   ]
  },
  {
   "cell_type": "code",
   "execution_count": null,
   "metadata": {},
   "outputs": [],
   "source": [
    "grid.fit(x,y)"
   ]
  },
  {
   "cell_type": "code",
   "execution_count": null,
   "metadata": {},
   "outputs": [],
   "source": [
    "grid.score(x,y)"
   ]
  },
  {
   "cell_type": "code",
   "execution_count": null,
   "metadata": {},
   "outputs": [],
   "source": []
  },
  {
   "cell_type": "code",
   "execution_count": null,
   "metadata": {},
   "outputs": [],
   "source": [
    "ax = sns.heatmap(encodedData, cmap=\"YlGnBu\")"
   ]
  },
  {
   "cell_type": "code",
   "execution_count": null,
   "metadata": {},
   "outputs": [],
   "source": []
  },
  {
   "cell_type": "markdown",
   "metadata": {},
   "source": [
    "# VARUN TEST with Mapped Data"
   ]
  },
  {
   "cell_type": "code",
   "execution_count": null,
   "metadata": {},
   "outputs": [],
   "source": [
    "x=mappedData.values\n",
    "y=visaData[\"Reason_Code\"]\n",
    "\n",
    "x_train,x_test,y_train,y_test=train_test_split(x,y,test_size=0.3,random_state=1)\n",
    "\n",
    "print(x_train.shape)\n",
    "print(y_train.shape)\n",
    "print(x_test.shape)\n",
    "print(y_test.shape)"
   ]
  },
  {
   "cell_type": "code",
   "execution_count": null,
   "metadata": {},
   "outputs": [],
   "source": [
    "dt=DecisionTreeClassifier(criterion=\"entropy\")\n",
    "dt_model=dt.fit(x_train,y_train)\n",
    "\n",
    "from sklearn import tree\n",
    "with open(\"CardTree.dot\", 'w') as f:\n",
    "    f = tree.export_graphviz(dt_model, out_file=f, feature_names=mappedData.columns)\n",
    "    \n",
    "    \n",
    "dt_prd=dt_model.predict(x_test)\n",
    "print(accuracy_score(y_test,dt_prd))\n",
    "df_confusion = confusion_matrix(y_test,dt_prd)\n",
    "df_confusion\n",
    "\n",
    "\n",
    "def plot_confusion_matrix(df_confusion, title='Confusion matrix', cmap=plt.cm.gray_r):\n",
    "    plt.matshow(df_confusion, cmap=cmap) # imshow\n",
    "    plt.title('Confusion Matrix')\n",
    "    plt.colorbar()\n",
    "    plt.ylabel('Actual')\n",
    "    plt.xlabel('Predicted')\n",
    "\n",
    "plot_confusion_matrix(df_confusion)\n",
    "\n",
    "print(metrics.classification_report(y_test,dt_prd))"
   ]
  },
  {
   "cell_type": "code",
   "execution_count": null,
   "metadata": {},
   "outputs": [],
   "source": [
    "mappedData.head()"
   ]
  },
  {
   "cell_type": "code",
   "execution_count": null,
   "metadata": {},
   "outputs": [],
   "source": [
    "STOP HERE "
   ]
  },
  {
   "cell_type": "code",
   "execution_count": null,
   "metadata": {},
   "outputs": [],
   "source": []
  },
  {
   "cell_type": "code",
   "execution_count": null,
   "metadata": {},
   "outputs": [],
   "source": []
  },
  {
   "cell_type": "code",
   "execution_count": null,
   "metadata": {},
   "outputs": [],
   "source": []
  },
  {
   "cell_type": "code",
   "execution_count": null,
   "metadata": {},
   "outputs": [],
   "source": []
  },
  {
   "cell_type": "code",
   "execution_count": null,
   "metadata": {},
   "outputs": [],
   "source": []
  },
  {
   "cell_type": "code",
   "execution_count": null,
   "metadata": {},
   "outputs": [],
   "source": []
  },
  {
   "cell_type": "code",
   "execution_count": null,
   "metadata": {},
   "outputs": [],
   "source": []
  },
  {
   "cell_type": "code",
   "execution_count": null,
   "metadata": {},
   "outputs": [],
   "source": []
  },
  {
   "cell_type": "code",
   "execution_count": null,
   "metadata": {},
   "outputs": [],
   "source": []
  },
  {
   "cell_type": "code",
   "execution_count": null,
   "metadata": {},
   "outputs": [],
   "source": []
  },
  {
   "cell_type": "code",
   "execution_count": null,
   "metadata": {},
   "outputs": [],
   "source": []
  },
  {
   "cell_type": "code",
   "execution_count": null,
   "metadata": {},
   "outputs": [],
   "source": []
  },
  {
   "cell_type": "code",
   "execution_count": null,
   "metadata": {},
   "outputs": [],
   "source": []
  },
  {
   "cell_type": "code",
   "execution_count": null,
   "metadata": {},
   "outputs": [],
   "source": []
  },
  {
   "cell_type": "code",
   "execution_count": null,
   "metadata": {},
   "outputs": [],
   "source": []
  },
  {
   "cell_type": "code",
   "execution_count": null,
   "metadata": {},
   "outputs": [],
   "source": []
  },
  {
   "cell_type": "code",
   "execution_count": null,
   "metadata": {},
   "outputs": [],
   "source": []
  },
  {
   "cell_type": "code",
   "execution_count": null,
   "metadata": {},
   "outputs": [],
   "source": []
  },
  {
   "cell_type": "code",
   "execution_count": null,
   "metadata": {},
   "outputs": [],
   "source": []
  },
  {
   "cell_type": "code",
   "execution_count": null,
   "metadata": {},
   "outputs": [],
   "source": []
  },
  {
   "cell_type": "code",
   "execution_count": null,
   "metadata": {},
   "outputs": [],
   "source": []
  },
  {
   "cell_type": "code",
   "execution_count": null,
   "metadata": {},
   "outputs": [],
   "source": []
  },
  {
   "cell_type": "code",
   "execution_count": null,
   "metadata": {},
   "outputs": [],
   "source": []
  },
  {
   "cell_type": "code",
   "execution_count": null,
   "metadata": {},
   "outputs": [],
   "source": []
  },
  {
   "cell_type": "code",
   "execution_count": null,
   "metadata": {},
   "outputs": [],
   "source": []
  },
  {
   "cell_type": "code",
   "execution_count": null,
   "metadata": {},
   "outputs": [],
   "source": []
  },
  {
   "cell_type": "code",
   "execution_count": null,
   "metadata": {},
   "outputs": [],
   "source": []
  },
  {
   "cell_type": "code",
   "execution_count": null,
   "metadata": {},
   "outputs": [],
   "source": []
  },
  {
   "cell_type": "code",
   "execution_count": null,
   "metadata": {},
   "outputs": [],
   "source": []
  },
  {
   "cell_type": "code",
   "execution_count": null,
   "metadata": {},
   "outputs": [],
   "source": []
  },
  {
   "cell_type": "code",
   "execution_count": null,
   "metadata": {},
   "outputs": [],
   "source": []
  },
  {
   "cell_type": "code",
   "execution_count": null,
   "metadata": {},
   "outputs": [],
   "source": []
  },
  {
   "cell_type": "code",
   "execution_count": null,
   "metadata": {},
   "outputs": [],
   "source": []
  },
  {
   "cell_type": "code",
   "execution_count": null,
   "metadata": {},
   "outputs": [],
   "source": []
  },
  {
   "cell_type": "markdown",
   "metadata": {},
   "source": [
    "# Random Forest"
   ]
  },
  {
   "cell_type": "code",
   "execution_count": null,
   "metadata": {},
   "outputs": [],
   "source": [
    "x_train,x_test,y_train,y_test=train_test_split(x,y,test_size=0.30,random_state=1)"
   ]
  },
  {
   "cell_type": "code",
   "execution_count": null,
   "metadata": {},
   "outputs": [],
   "source": [
    "rf_clf=RandomForestClassifier(max_depth = 10, min_samples_split=2, n_estimators = 10, random_state = 123)\n",
    "rf_model=rf_clf.fit(x_train,y_train)\n",
    "rf_prediction=rf_model.predict(x_test)"
   ]
  },
  {
   "cell_type": "code",
   "execution_count": null,
   "metadata": {},
   "outputs": [],
   "source": [
    "print(accuracy_score(y_test,rf_prediction))"
   ]
  },
  {
   "cell_type": "code",
   "execution_count": null,
   "metadata": {},
   "outputs": [],
   "source": []
  },
  {
   "cell_type": "markdown",
   "metadata": {},
   "source": [
    "### Random Search\n",
    "\n",
    "Using Randomized Grid Search, we can define a grid of hyperparameters and randomly sample from the grid to get the best combination of values."
   ]
  },
  {
   "cell_type": "code",
   "execution_count": null,
   "metadata": {},
   "outputs": [],
   "source": [
    "'''\n",
    "# Different parameters we want to test\n",
    "\n",
    "# Number of trees in random forest\n",
    "n_estimators = [int(x) for x in np.linspace(start = 200, stop = 1000, num = 10)]\n",
    "# Number of features to consider at every split\n",
    "max_features = ['auto', 'sqrt']\n",
    "# Maximum number of levels in tree\n",
    "max_depth = [int(x) for x in np.linspace(10, 110, num = 11)]\n",
    "max_depth.append(None)\n",
    "# Minimum number of samples required to split a node\n",
    "min_samples_split = [2, 5, 10]\n",
    "# Minimum number of samples required at each leaf node\n",
    "min_samples_leaf = [1, 2, 4]\n",
    "# Method of selecting samples for training each tree\n",
    "bootstrap = [True, False]\n",
    "'''"
   ]
  },
  {
   "cell_type": "code",
   "execution_count": null,
   "metadata": {},
   "outputs": [],
   "source": [
    "'''\n",
    "\n",
    "random_grid = {'n_estimators': n_estimators,\n",
    "               'max_features': max_features,\n",
    "               'max_depth': max_depth,\n",
    "               'min_samples_split': min_samples_split,\n",
    "               'min_samples_leaf': min_samples_leaf,\n",
    "               'bootstrap': bootstrap}\n",
    "'''"
   ]
  },
  {
   "cell_type": "code",
   "execution_count": null,
   "metadata": {},
   "outputs": [],
   "source": [
    "# Importing RandomizedSearchCV\n",
    "'''\n",
    "from sklearn.model_selection import RandomizedSearchCV\n",
    "'''"
   ]
  },
  {
   "cell_type": "code",
   "execution_count": null,
   "metadata": {},
   "outputs": [],
   "source": [
    "\n",
    "'''\n",
    "forest_two = RandomForestClassifier()\n",
    "\n",
    "rf_random = RandomizedSearchCV(estimator = forest_two, param_distributions = random_grid, \n",
    "                               n_iter = 100, cv = 3, verbose=2, random_state=42)\n",
    "                               \n",
    "'''"
   ]
  },
  {
   "cell_type": "code",
   "execution_count": null,
   "metadata": {},
   "outputs": [],
   "source": [
    "#rf_random.fit(x,y)"
   ]
  },
  {
   "cell_type": "code",
   "execution_count": null,
   "metadata": {},
   "outputs": [],
   "source": []
  },
  {
   "cell_type": "code",
   "execution_count": null,
   "metadata": {},
   "outputs": [],
   "source": [
    "#rf_random.best_params_\n",
    "#rf_random.best_score_"
   ]
  },
  {
   "cell_type": "code",
   "execution_count": null,
   "metadata": {},
   "outputs": [],
   "source": []
  },
  {
   "cell_type": "code",
   "execution_count": null,
   "metadata": {},
   "outputs": [],
   "source": []
  },
  {
   "cell_type": "code",
   "execution_count": null,
   "metadata": {},
   "outputs": [],
   "source": []
  },
  {
   "cell_type": "code",
   "execution_count": null,
   "metadata": {},
   "outputs": [],
   "source": []
  },
  {
   "cell_type": "code",
   "execution_count": null,
   "metadata": {},
   "outputs": [],
   "source": []
  },
  {
   "cell_type": "code",
   "execution_count": null,
   "metadata": {},
   "outputs": [],
   "source": []
  },
  {
   "cell_type": "code",
   "execution_count": null,
   "metadata": {},
   "outputs": [],
   "source": []
  },
  {
   "cell_type": "code",
   "execution_count": null,
   "metadata": {},
   "outputs": [],
   "source": []
  },
  {
   "cell_type": "code",
   "execution_count": null,
   "metadata": {},
   "outputs": [],
   "source": []
  },
  {
   "cell_type": "code",
   "execution_count": null,
   "metadata": {},
   "outputs": [],
   "source": []
  },
  {
   "cell_type": "code",
   "execution_count": null,
   "metadata": {},
   "outputs": [],
   "source": [
    "'''\n",
    "y=visaData[\"Reason_Code\"]\n",
    "visaData.drop(columns=\"Reason_Code\", axis=1)\n",
    "#columns = [\"Petal.Width\", \"Sepal.Length\",\"Petal.Length\"]\n",
    "features=visaData.values\n",
    "x=features\n",
    "x\n",
    "'''"
   ]
  },
  {
   "cell_type": "code",
   "execution_count": null,
   "metadata": {},
   "outputs": [],
   "source": []
  }
 ],
 "metadata": {
  "kernelspec": {
   "display_name": "Python 3",
   "language": "python",
   "name": "python3"
  },
  "language_info": {
   "codemirror_mode": {
    "name": "ipython",
    "version": 3
   },
   "file_extension": ".py",
   "mimetype": "text/x-python",
   "name": "python",
   "nbconvert_exporter": "python",
   "pygments_lexer": "ipython3",
   "version": "3.7.3"
  }
 },
 "nbformat": 4,
 "nbformat_minor": 2
}
